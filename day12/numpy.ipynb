{
 "cells": [
  {
   "cell_type": "code",
   "id": "initial_id",
   "metadata": {
    "collapsed": true,
    "ExecuteTime": {
     "end_time": "2025-04-22T14:40:43.705511Z",
     "start_time": "2025-04-22T14:40:43.701441Z"
    }
   },
   "source": "import numpy as np",
   "outputs": [],
   "execution_count": 8
  },
  {
   "metadata": {
    "ExecuteTime": {
     "end_time": "2025-04-22T02:41:13.730786Z",
     "start_time": "2025-04-22T02:41:13.722842Z"
    }
   },
   "cell_type": "code",
   "source": [
    "a = np.array([1, 2, 3])\n",
    "print(a.ndim)\n",
    "print(a.shape)\n",
    "print(a.size)\n",
    "print(a)"
   ],
   "id": "e40d677fe74c0fee",
   "outputs": [
    {
     "name": "stdout",
     "output_type": "stream",
     "text": [
      "1\n",
      "(3,)\n",
      "3\n",
      "[1 2 3]\n"
     ]
    }
   ],
   "execution_count": 7
  },
  {
   "metadata": {
    "ExecuteTime": {
     "end_time": "2025-04-22T02:43:33.677559Z",
     "start_time": "2025-04-22T02:43:33.673272Z"
    }
   },
   "cell_type": "code",
   "source": [
    "b = np.ones((2, 3))\n",
    "print(b.size)\n",
    "print(b.shape)\n",
    "print(b.ndim)\n",
    "print(b)"
   ],
   "id": "4da6332bb284e485",
   "outputs": [
    {
     "name": "stdout",
     "output_type": "stream",
     "text": [
      "6\n",
      "(2, 3)\n",
      "2\n",
      "[[1. 1. 1.]\n",
      " [1. 1. 1.]]\n"
     ]
    }
   ],
   "execution_count": 13
  },
  {
   "metadata": {
    "ExecuteTime": {
     "end_time": "2025-04-22T03:28:23.834250Z",
     "start_time": "2025-04-22T03:28:23.821619Z"
    }
   },
   "cell_type": "code",
   "source": [
    "# 最小维度 \n",
    "a = np.array([1, 2, 3, 4, 5], ndmin=2)\n",
    "print(a)"
   ],
   "id": "c91e46d652f5e00c",
   "outputs": [
    {
     "name": "stdout",
     "output_type": "stream",
     "text": [
      "[[1 2 3 4 5]]\n"
     ]
    }
   ],
   "execution_count": 22
  },
  {
   "metadata": {
    "ExecuteTime": {
     "end_time": "2025-04-22T03:41:22.794259Z",
     "start_time": "2025-04-22T03:41:22.783679Z"
    }
   },
   "cell_type": "code",
   "source": [
    "a = np.array([1, 2, 3.21], dtype=np.complex64)\n",
    "print(a)"
   ],
   "id": "30250c5d3069c86a",
   "outputs": [
    {
     "name": "stdout",
     "output_type": "stream",
     "text": [
      "[1.  +0.j 2.  +0.j 3.21+0.j]\n"
     ]
    }
   ],
   "execution_count": 32
  },
  {
   "metadata": {
    "ExecuteTime": {
     "end_time": "2025-04-22T04:13:24.585936Z",
     "start_time": "2025-04-22T04:13:24.569155Z"
    }
   },
   "cell_type": "code",
   "source": [
    "dt = np.dtype([('age', np.int8), ('height', np.float32)])\n",
    "a = np.array([[(10, 1), (20, 2), (30, 3)], [(10, 1), (20, 2), (30, 3)]], dtype=dt)\n",
    "print(a['age'])\n",
    "print(a['height'])\n",
    "print(a.ndim)\n",
    "print(a.dtype)\n",
    "print(a.itemsize)"
   ],
   "id": "353a9fcd68a7ca75",
   "outputs": [
    {
     "name": "stdout",
     "output_type": "stream",
     "text": [
      "[[10 20 30]\n",
      " [10 20 30]]\n",
      "[[1. 2. 3.]\n",
      " [1. 2. 3.]]\n",
      "2\n",
      "[('age', 'i1'), ('height', '<f4')]\n",
      "5\n"
     ]
    }
   ],
   "execution_count": 42
  },
  {
   "metadata": {
    "ExecuteTime": {
     "end_time": "2025-04-22T04:15:44.591975Z",
     "start_time": "2025-04-22T04:15:44.579385Z"
    }
   },
   "cell_type": "code",
   "source": [
    "a = np.arange(24)\n",
    "print(a.ndim)  # a 现只有一个维度\n",
    "# 现在调整其大小\n",
    "b = a.reshape(2, 4, 3)  # b 现在拥有三个维度\n",
    "print(b.ndim)\n",
    "print(b)"
   ],
   "id": "de91483f2476bd69",
   "outputs": [
    {
     "name": "stdout",
     "output_type": "stream",
     "text": [
      "1\n",
      "3\n",
      "[[[ 0  1  2]\n",
      "  [ 3  4  5]\n",
      "  [ 6  7  8]\n",
      "  [ 9 10 11]]\n",
      "\n",
      " [[12 13 14]\n",
      "  [15 16 17]\n",
      "  [18 19 20]\n",
      "  [21 22 23]]]\n"
     ]
    }
   ],
   "execution_count": 50
  },
  {
   "metadata": {
    "ExecuteTime": {
     "end_time": "2025-04-22T04:16:32.872927Z",
     "start_time": "2025-04-22T04:16:32.860197Z"
    }
   },
   "cell_type": "code",
   "source": [
    "x = np.array([1, 2, 3, 4, 5])\n",
    "print(x.flags)"
   ],
   "id": "d2da8afc5fdf969d",
   "outputs": [
    {
     "name": "stdout",
     "output_type": "stream",
     "text": [
      "  C_CONTIGUOUS : True\n",
      "  F_CONTIGUOUS : True\n",
      "  OWNDATA : True\n",
      "  WRITEABLE : True\n",
      "  ALIGNED : True\n",
      "  WRITEBACKIFCOPY : False\n",
      "\n"
     ]
    }
   ],
   "execution_count": 52
  },
  {
   "metadata": {
    "ExecuteTime": {
     "end_time": "2025-04-22T14:39:23.189346Z",
     "start_time": "2025-04-22T14:39:23.182833Z"
    }
   },
   "cell_type": "code",
   "source": [
    "four = np.array([[1, 2, 3], [4, 5, 6]])\n",
    "# 修改的是原有的\n",
    "four.shape = (3, 2)\n",
    "print(four)\n",
    "# 返回一个新的数组\n",
    "four = four.reshape(3, 2)\n",
    "print(four)\n",
    "# 将多维变成一维数组\n",
    "five = four.reshape((6,), order='F')\n",
    "# 默认情况下‘C’以行为主的顺序展开，‘F’（Fortran风格）意味着以列的顺序展开\n",
    "six = four.flatten(order='F')\n",
    "print(five)\n",
    "print(six)"
   ],
   "id": "ad78ae3bb9795082",
   "outputs": [
    {
     "name": "stdout",
     "output_type": "stream",
     "text": [
      "[[1 2]\n",
      " [3 4]\n",
      " [5 6]]\n",
      "[[1 2]\n",
      " [3 4]\n",
      " [5 6]]\n",
      "[1 3 5 2 4 6]\n",
      "[1 3 5 2 4 6]\n"
     ]
    }
   ],
   "execution_count": 4
  },
  {
   "metadata": {
    "ExecuteTime": {
     "end_time": "2025-04-22T14:43:45.651506Z",
     "start_time": "2025-04-22T14:43:45.646501Z"
    }
   },
   "cell_type": "code",
   "source": [
    "x = [(1, 2, 3), (4, 5, 6)]\n",
    "a = np.asarray(x)\n",
    "print(a)"
   ],
   "id": "ef1b3808e093ce58",
   "outputs": [
    {
     "name": "stdout",
     "output_type": "stream",
     "text": [
      "[[1 2 3]\n",
      " [4 5 6]]\n"
     ]
    }
   ],
   "execution_count": 11
  },
  {
   "metadata": {
    "ExecuteTime": {
     "end_time": "2025-04-22T14:48:44.752428Z",
     "start_time": "2025-04-22T14:48:44.747429Z"
    }
   },
   "cell_type": "code",
   "source": [
    "s = b'hello world'\n",
    "print(type(s))\n",
    "ret = np.frombuffer(s, dtype='S1')\n",
    "print(ret)"
   ],
   "id": "45dbcf73ff2d10ab",
   "outputs": [
    {
     "name": "stdout",
     "output_type": "stream",
     "text": [
      "<class 'bytes'>\n",
      "[b'h' b'e' b'l' b'l' b'o' b' ' b'w' b'o' b'r' b'l' b'd']\n"
     ]
    }
   ],
   "execution_count": 25
  },
  {
   "metadata": {
    "ExecuteTime": {
     "end_time": "2025-04-22T14:50:19.319148Z",
     "start_time": "2025-04-22T14:50:19.314935Z"
    }
   },
   "cell_type": "code",
   "source": [
    "l = range(10)\n",
    "it = iter(l)\n",
    "ret = np.fromiter(it, dtype=np.int64)\n",
    "print(ret)"
   ],
   "id": "d504aac7b138883b",
   "outputs": [
    {
     "name": "stdout",
     "output_type": "stream",
     "text": [
      "[0 1 2 3 4 5 6 7 8 9]\n"
     ]
    }
   ],
   "execution_count": 29
  },
  {
   "metadata": {
    "ExecuteTime": {
     "end_time": "2025-04-22T14:54:51.421301Z",
     "start_time": "2025-04-22T14:54:51.417622Z"
    }
   },
   "cell_type": "code",
   "source": [
    "a = np.arange(10)\n",
    "b = slice(0, 10, 2)\n",
    "print(a[b])"
   ],
   "id": "9d8217b62577d2c7",
   "outputs": [
    {
     "name": "stdout",
     "output_type": "stream",
     "text": [
      "[0 2 4 6 8]\n"
     ]
    }
   ],
   "execution_count": 32
  },
  {
   "metadata": {
    "ExecuteTime": {
     "end_time": "2025-04-22T14:55:05.131457Z",
     "start_time": "2025-04-22T14:55:05.126706Z"
    }
   },
   "cell_type": "code",
   "source": [
    "b = a[2:7:2]\n",
    "print(b)"
   ],
   "id": "cadf4772d308fa4b",
   "outputs": [
    {
     "name": "stdout",
     "output_type": "stream",
     "text": [
      "[2 4 6]\n"
     ]
    }
   ],
   "execution_count": 33
  },
  {
   "metadata": {
    "ExecuteTime": {
     "end_time": "2025-04-23T02:12:36.484542Z",
     "start_time": "2025-04-23T02:12:36.465467Z"
    }
   },
   "cell_type": "code",
   "source": [
    "arr = np.array([\n",
    "    [\n",
    "        [1, 2],\n",
    "        [3, 4]\n",
    "    ],\n",
    "    [\n",
    "        [5, 6],\n",
    "        [7, 8]\n",
    "    ]\n",
    "])\n",
    "\n",
    "# 获取第一个二维数组\n",
    "# print(arr[0, :, :])\n",
    "# [[1 2]\n",
    "#  [3 4]]\n",
    "\n",
    "# 获取所有数组的第一个元素\n",
    "print(arr[:, :, 0:1])\n",
    "# [[1 3]\n",
    "#  [5 7]]\n",
    "\n",
    "# 获取特定范围的子数组\n",
    "#print(arr[:, 0:1, :])\n",
    "# [[[1 2]]\n",
    "#  [[5 6]]]"
   ],
   "id": "937c9d47afd2073a",
   "outputs": [
    {
     "name": "stdout",
     "output_type": "stream",
     "text": [
      "[[[1]\n",
      "  [3]]\n",
      "\n",
      " [[5]\n",
      "  [7]]]\n"
     ]
    }
   ],
   "execution_count": 43
  },
  {
   "metadata": {},
   "cell_type": "markdown",
   "source": [
    "# NumPy 数组切片的基本语法是 array[start:stop:step]，对于多维数组则是用逗号分隔不同维度的切片：\n",
    "三维数组是一种具有三个独立维度的数据结构，可以看作是二维数组的扩展。它通过三个索引（通常表示为 [i][j][k]）唯一确定元素的位置，其中：\n",
    "\n",
    "    第一维（i）：通常表示层或深度，例如三维空间中的不同平面；\n",
    "    第二维（j）：表示行；\n",
    "    第三维（k）：表示列\n",
    "\n",
    "其结构类似一个立方体，或者由多个二维数组堆叠而成。例如，在编程中，int array[3][4][2] 表示一个包含3层、每层4行2列的三维数组\n",
    "。"
   ],
   "id": "f062b6088d1f9ffb"
  },
  {
   "metadata": {
    "ExecuteTime": {
     "end_time": "2025-04-23T03:34:58.007538Z",
     "start_time": "2025-04-23T03:34:58.002243Z"
    }
   },
   "cell_type": "code",
   "source": [
    "x = np.array([[1, 2], [3, 4], [5, 6]])\n",
    "y = x[[0, 1, 2], [0, 1, 0]]\n",
    "print(y)"
   ],
   "id": "517e44b1769daa67",
   "outputs": [
    {
     "name": "stdout",
     "output_type": "stream",
     "text": [
      "[1 4 5]\n"
     ]
    }
   ],
   "execution_count": 48
  },
  {
   "metadata": {
    "ExecuteTime": {
     "end_time": "2025-04-23T03:45:11.805100Z",
     "start_time": "2025-04-23T03:45:11.797539Z"
    }
   },
   "cell_type": "code",
   "source": [
    "x = np.array([[0, 1, 2], [3, 4, 5], [6, 7, 8], [9, 10, 11]])\n",
    "print('我们的数组是：')\n",
    "print(x)\n",
    "print('\\n')\n",
    "rows = np.array([[0, 0], [3, 3]])\n",
    "cols = np.array([[0, 2], [0, 2]])\n",
    "y = x[rows, cols]\n",
    "z = x[[0, 0, 3, 3], [0, 2, 0, 2]]\n",
    "print('这个数组的四个角元素是：')\n",
    "print(y)\n",
    "print(z)"
   ],
   "id": "720891e232d17446",
   "outputs": [
    {
     "name": "stdout",
     "output_type": "stream",
     "text": [
      "我们的数组是：\n",
      "[[ 0  1  2]\n",
      " [ 3  4  5]\n",
      " [ 6  7  8]\n",
      " [ 9 10 11]]\n",
      "\n",
      "\n",
      "这个数组的四个角元素是：\n",
      "[[ 0  2]\n",
      " [ 9 11]]\n",
      "[ 0  2  9 11]\n"
     ]
    }
   ],
   "execution_count": 52
  },
  {
   "metadata": {},
   "cell_type": "markdown",
   "source": [
    "# 广播就是将不同位的的矩阵进行相加，但是要求有一个对应的维度是相同的\n",
    "广播的核心思想是自动扩展较小的数组，使其形状与较大的数组兼容，从而进行逐元素操作。"
   ],
   "id": "caf9daefe9c68d4b"
  },
  {
   "metadata": {
    "ExecuteTime": {
     "end_time": "2025-04-23T03:47:30.712798Z",
     "start_time": "2025-04-23T03:47:30.708319Z"
    }
   },
   "cell_type": "code",
   "source": [
    "a = np.array([[0, 0, 0],\n",
    "              [10, 10, 10],\n",
    "              [20, 20, 20],\n",
    "              [30, 30, 30]])\n",
    "b = np.array([1, 2, 3])\n",
    "bb = np.tile(b, (4, 1))  # 重复 b 的各个维度\n",
    "print(bb)"
   ],
   "id": "43dd169287cac1c1",
   "outputs": [
    {
     "name": "stdout",
     "output_type": "stream",
     "text": [
      "[[1 2 3]\n",
      " [1 2 3]\n",
      " [1 2 3]\n",
      " [1 2 3]]\n"
     ]
    }
   ],
   "execution_count": 60
  },
  {
   "metadata": {},
   "cell_type": "code",
   "outputs": [],
   "execution_count": null,
   "source": "",
   "id": "3937d0bb056730cc"
  },
  {
   "metadata": {
    "ExecuteTime": {
     "end_time": "2025-04-23T08:54:25.366719Z",
     "start_time": "2025-04-23T08:54:25.307354Z"
    }
   },
   "cell_type": "code",
   "source": [
    "a = np.array([[0, 0, 0],\n",
    "              [10, 10, 10],\n",
    "              [20, 20, 20],\n",
    "              [30, 30, 30]])\n",
    "b = np.array([1, 2, 3])\n",
    "print(a + b)"
   ],
   "id": "4b8dd805a2a5f64b",
   "outputs": [
    {
     "name": "stdout",
     "output_type": "stream",
     "text": [
      "[[ 1  2  3]\n",
      " [11 12 13]\n",
      " [21 22 23]\n",
      " [31 32 33]]\n"
     ]
    }
   ],
   "execution_count": 67
  },
  {
   "metadata": {
    "ExecuteTime": {
     "end_time": "2025-04-23T08:56:58.772874Z",
     "start_time": "2025-04-23T08:56:58.765708Z"
    }
   },
   "cell_type": "code",
   "source": [
    "a = np.arange(0, 60, 5)\n",
    "a = a.reshape(3, 4)\n",
    "print('原始数组是：')\n",
    "print(a)\n",
    "print('\\n')\n",
    "print('原始数组的转置是：')\n",
    "b = a.T\n",
    "print(b)\n",
    "print('\\n')\n",
    "print('以 C 风格顺序排序：')\n",
    "c = b.copy(order='C')\n",
    "print(c)\n",
    "for x in np.nditer(c):\n",
    "    print(x, end=\", \")\n",
    "print('\\n')\n",
    "print('以 F 风格顺序排序：')\n",
    "c = b.copy(order='F')\n",
    "print(c)\n",
    "for x in np.nditer(c):\n",
    "    print(x, end=\", \")"
   ],
   "id": "566538481dc34a9b",
   "outputs": [
    {
     "name": "stdout",
     "output_type": "stream",
     "text": [
      "原始数组是：\n",
      "[[ 0  5 10 15]\n",
      " [20 25 30 35]\n",
      " [40 45 50 55]]\n",
      "\n",
      "\n",
      "原始数组的转置是：\n",
      "[[ 0 20 40]\n",
      " [ 5 25 45]\n",
      " [10 30 50]\n",
      " [15 35 55]]\n",
      "\n",
      "\n",
      "以 C 风格顺序排序：\n",
      "[[ 0 20 40]\n",
      " [ 5 25 45]\n",
      " [10 30 50]\n",
      " [15 35 55]]\n",
      "0, 20, 40, 5, 25, 45, 10, 30, 50, 15, 35, 55, \n",
      "\n",
      "以 F 风格顺序排序：\n",
      "[[ 0 20 40]\n",
      " [ 5 25 45]\n",
      " [10 30 50]\n",
      " [15 35 55]]\n",
      "0, 5, 10, 15, 20, 25, 30, 35, 40, 45, 50, 55, "
     ]
    }
   ],
   "execution_count": 69
  },
  {
   "metadata": {
    "ExecuteTime": {
     "end_time": "2025-04-23T09:03:13.525741Z",
     "start_time": "2025-04-23T09:03:13.521223Z"
    }
   },
   "cell_type": "code",
   "source": [
    "a = np.arange(0, 60, 5)\n",
    "a = a.reshape(3, 4)\n",
    "print('原始数组是：')\n",
    "print(a)\n",
    "print('\\n')\n",
    "print('修改后的数组是：')\n",
    "for x in np.nditer(a.T, flags=['external_loop'], order='C'):\n",
    "    print(x, end=\", \")"
   ],
   "id": "99575a00482a9c4d",
   "outputs": [
    {
     "name": "stdout",
     "output_type": "stream",
     "text": [
      "原始数组是：\n",
      "[[ 0  5 10 15]\n",
      " [20 25 30 35]\n",
      " [40 45 50 55]]\n",
      "\n",
      "\n",
      "修改后的数组是：\n",
      "[ 0 20 40], [ 5 25 45], [10 30 50], [15 35 55], "
     ]
    }
   ],
   "execution_count": 79
  },
  {
   "metadata": {
    "ExecuteTime": {
     "end_time": "2025-04-23T09:04:02.715125Z",
     "start_time": "2025-04-23T09:04:02.709272Z"
    }
   },
   "cell_type": "code",
   "source": [
    "a = np.arange(9).reshape(3, 3)\n",
    "print('原始数组：')\n",
    "for row in a:\n",
    "    print(row)\n",
    "\n",
    "#对数组中每个元素都进行处理，可以使用flat属性，该属性是一个数组元素迭代器：\n",
    "print('迭代后的数组：')\n",
    "for element in a.flat:\n",
    "    print(element)"
   ],
   "id": "2f50835fa142a438",
   "outputs": [
    {
     "name": "stdout",
     "output_type": "stream",
     "text": [
      "原始数组：\n",
      "[0 1 2]\n",
      "[3 4 5]\n",
      "[6 7 8]\n",
      "迭代后的数组：\n",
      "0\n",
      "1\n",
      "2\n",
      "3\n",
      "4\n",
      "5\n",
      "6\n",
      "7\n",
      "8\n"
     ]
    }
   ],
   "execution_count": 81
  },
  {
   "metadata": {
    "ExecuteTime": {
     "end_time": "2025-04-23T09:07:53.338635Z",
     "start_time": "2025-04-23T09:07:53.334444Z"
    }
   },
   "cell_type": "code",
   "source": [
    "a = np.arange(9).reshape(3, 3)\n",
    "# K 内存中出现的顺序 A 原顺序 C 按照行展开 F 按照列展开 \n",
    "b = a.flatten(order='c')\n",
    "print(b)"
   ],
   "id": "e568f3dbf11ecd38",
   "outputs": [
    {
     "name": "stdout",
     "output_type": "stream",
     "text": [
      "[0 1 2 3 4 5 6 7 8]\n"
     ]
    }
   ],
   "execution_count": 88
  },
  {
   "metadata": {
    "ExecuteTime": {
     "end_time": "2025-04-23T09:16:01.571977Z",
     "start_time": "2025-04-23T09:16:01.566047Z"
    }
   },
   "cell_type": "code",
   "source": [
    "t = np.arange(0, 10).reshape(2, 5)\n",
    "print(t)\n",
    "t[0, 4:] = 0\n",
    "print(t)"
   ],
   "id": "fcf99762a36fe7b5",
   "outputs": [
    {
     "name": "stdout",
     "output_type": "stream",
     "text": [
      "[[0 1 2 3 4]\n",
      " [5 6 7 8 9]]\n",
      "[[0 1 2 3 0]\n",
      " [5 6 7 8 9]]\n"
     ]
    }
   ],
   "execution_count": 94
  },
  {
   "metadata": {
    "ExecuteTime": {
     "end_time": "2025-04-23T09:17:50.077468Z",
     "start_time": "2025-04-23T09:17:50.072465Z"
    }
   },
   "cell_type": "code",
   "source": [
    "t = np.arange(5, 20).reshape(3, 5)\n",
    "print(t)\n",
    "t[t < 10] = 0\n",
    "print(t)\n"
   ],
   "id": "accb2e63f75d8733",
   "outputs": [
    {
     "name": "stdout",
     "output_type": "stream",
     "text": [
      "[[ 5  6  7  8  9]\n",
      " [10 11 12 13 14]\n",
      " [15 16 17 18 19]]\n",
      "[[ 0  0  0  0  0]\n",
      " [10 11 12 13 14]\n",
      " [15 16 17 18 19]]\n"
     ]
    }
   ],
   "execution_count": 98
  },
  {
   "metadata": {
    "ExecuteTime": {
     "end_time": "2025-04-23T09:18:54.929904Z",
     "start_time": "2025-04-23T09:18:54.923590Z"
    }
   },
   "cell_type": "code",
   "source": [
    "score = np.array([[80, 88], [82, 81], [75, 81]])\n",
    "# 三木运算符 np.where(条件, True, False)条件为真则输出True条件为假则为False\n",
    "result = np.where(score > 80, True, False)\n",
    "print(result)"
   ],
   "id": "7d8490baf50ebb89",
   "outputs": [
    {
     "name": "stdout",
     "output_type": "stream",
     "text": [
      "[[False  True]\n",
      " [ True  True]\n",
      " [False  True]]\n"
     ]
    }
   ],
   "execution_count": 100
  },
  {
   "metadata": {
    "ExecuteTime": {
     "end_time": "2025-04-23T09:24:42.735825Z",
     "start_time": "2025-04-23T09:24:42.731342Z"
    }
   },
   "cell_type": "code",
   "source": [
    "score = np.array([[80, 88], [82, 81], [75, 81]])\n",
    "# 限制最大值和最小值\n",
    "a = score.clip(80, 85)\n",
    "print(a)"
   ],
   "id": "b27f4c6bf9ba65b2",
   "outputs": [
    {
     "name": "stdout",
     "output_type": "stream",
     "text": [
      "[[80 85]\n",
      " [82 81]\n",
      " [80 81]]\n"
     ]
    }
   ],
   "execution_count": 103
  },
  {
   "metadata": {
    "ExecuteTime": {
     "end_time": "2025-04-23T09:41:49.714731Z",
     "start_time": "2025-04-23T09:41:49.709223Z"
    }
   },
   "cell_type": "code",
   "source": [
    "a = np.array([[1, 2, 3], [4, 5, 6]])\n",
    "print('第一个数组：')\n",
    "print(a)\n",
    "print('\\n')\n",
    "print(' 向 数 组 添 加 元 素 ：')\n",
    "print(np.append(a, [7, 8, 9]))\n",
    "print('\\n')\n",
    "print('沿轴 0 添加元素：')\n",
    "print(np.append(a, [[7, 8, 9]], axis=0))\n",
    "print('\\n')\n",
    "print('沿轴 1 添加元素：')\n",
    "print(np.append(a, [[5, 5, 5], [7, 8, 9]], axis=1))"
   ],
   "id": "7112da72f9180165",
   "outputs": [
    {
     "name": "stdout",
     "output_type": "stream",
     "text": [
      "第一个数组：\n",
      "[[1 2 3]\n",
      " [4 5 6]]\n",
      "\n",
      "\n",
      " 向 数 组 添 加 元 素 ：\n",
      "[1 2 3 4 5 6 7 8 9]\n",
      "\n",
      "\n",
      "沿轴 0 添加元素：\n",
      "[[1 2 3]\n",
      " [4 5 6]\n",
      " [7 8 9]]\n",
      "\n",
      "\n",
      "沿轴 1 添加元素：\n",
      "[[1 2 3 5 5 5]\n",
      " [4 5 6 7 8 9]]\n"
     ]
    }
   ],
   "execution_count": 109
  },
  {
   "metadata": {
    "ExecuteTime": {
     "end_time": "2025-04-23T09:47:18.867124Z",
     "start_time": "2025-04-23T09:47:18.861913Z"
    }
   },
   "cell_type": "code",
   "source": [
    "arr = np.array([[1, 2], [3, 4], [5, 6]])\n",
    "\n",
    "# 沿轴0插入行（在索引1处插入新行）\n",
    "new_row = np.array([[7, 8]])\n",
    "result = np.insert(arr, 1, new_row, axis=0)\n",
    "print(result)\n",
    "\n",
    "# 沿轴1插入列（在索引1处插入新列）\n",
    "new_col = np.array([[9], [10], [11], [12]])\n",
    "result = np.insert(arr, 1, new_col, axis=1)\n",
    "print(result)"
   ],
   "id": "1039bbee5dd50dc3",
   "outputs": [
    {
     "name": "stdout",
     "output_type": "stream",
     "text": [
      "[[1 2]\n",
      " [7 8]\n",
      " [3 4]\n",
      " [5 6]]\n",
      "[[ 1  9 10 11 12  2]\n",
      " [ 3  9 10 11 12  4]\n",
      " [ 5  9 10 11 12  6]]\n"
     ]
    }
   ],
   "execution_count": 119
  },
  {
   "metadata": {
    "ExecuteTime": {
     "end_time": "2025-04-23T09:51:19.118291Z",
     "start_time": "2025-04-23T09:51:19.113108Z"
    }
   },
   "cell_type": "code",
   "source": [
    "a = np.arange(12).reshape(3, 4)\n",
    "print(a)\n",
    "print(np.delete(a, 1))\n",
    "print(np.delete(a, 2, axis=0))\n",
    "print(np.delete(a, 2, axis=1))"
   ],
   "id": "ccdad94dead59b6f",
   "outputs": [
    {
     "name": "stdout",
     "output_type": "stream",
     "text": [
      "[[ 0  1  2  3]\n",
      " [ 4  5  6  7]\n",
      " [ 8  9 10 11]]\n",
      "[ 0  2  3  4  5  6  7  8  9 10 11]\n",
      "[[0 1 2 3]\n",
      " [4 5 6 7]]\n",
      "[[ 0  1  3]\n",
      " [ 4  5  7]\n",
      " [ 8  9 11]]\n"
     ]
    }
   ],
   "execution_count": 123
  },
  {
   "metadata": {},
   "cell_type": "markdown",
   "source": [
    "# numpy.unique() 函数用于查找数组中的唯一元素（去重），并可以返回排序后的结果以及相关的索引信息\n",
    "return_index是否返回唯一元素的原始索引（首次出现位置）\n",
    "\n",
    "return_inverse是否返回重建原始数组的索引\n",
    "\n",
    "return_counts是否返回每个唯一元素出现的次数"
   ],
   "id": "68b10f5890552325"
  },
  {
   "metadata": {
    "ExecuteTime": {
     "end_time": "2025-04-23T10:20:58.239293Z",
     "start_time": "2025-04-23T10:20:58.232851Z"
    }
   },
   "cell_type": "code",
   "source": [
    "a = np.array([5, 2, 6, 2, 7, 5, 6, 8, 2, 9])\n",
    "print('第一个数组：')\n",
    "print(a)\n",
    "# print ('\\n')\n",
    "# print ('第一个数组的去重值：')\n",
    "# u = np.unique(a)\n",
    "# print (u)\n",
    "# print ('\\n')\n",
    "# print ('去重数组的索引数组：')\n",
    "# u,indices = np.unique(a, return_index = True)\n",
    "# print(u)\n",
    "# print (indices)\n",
    "# print ('\\n')\n",
    "# print ('我们可以看到每个和原数组下标对应的数值：')\n",
    "# print (a)\n",
    "print('去重数组的下标：')\n",
    "u, indices = np.unique(a, return_inverse=True)\n",
    "print(u)\n",
    "print(indices)\n",
    "print('\\n')\n",
    "print('返回去重元素的重复数量：')\n",
    "u, indices = np.unique(a, return_counts=True)\n",
    "print(u)\n",
    "print(indices)"
   ],
   "id": "72c8485b94856db7",
   "outputs": [
    {
     "name": "stdout",
     "output_type": "stream",
     "text": [
      "第一个数组：\n",
      "[5 2 6 2 7 5 6 8 2 9]\n",
      "去重数组的下标：\n",
      "[2 5 6 7 8 9]\n",
      "[1 0 2 0 3 1 2 4 0 5]\n",
      "\n",
      "\n",
      "返回去重元素的重复数量：\n",
      "[2 5 6 7 8 9]\n",
      "[3 2 2 1 1 1]\n"
     ]
    }
   ],
   "execution_count": 129
  },
  {
   "metadata": {
    "ExecuteTime": {
     "end_time": "2025-04-23T10:27:21.356396Z",
     "start_time": "2025-04-23T10:27:21.351139Z"
    }
   },
   "cell_type": "code",
   "source": [
    "# 5. 数据的比较\n",
    "a = np.arange(12).reshape(3, 4)\n",
    "result = np.maximum(a, 3)\n",
    "# 第一个参数中的每一个数与第二个参数比较返回大的\n",
    "print(result)"
   ],
   "id": "579d3996ae89ec6",
   "outputs": [
    {
     "name": "stdout",
     "output_type": "stream",
     "text": [
      "[[ 3  3  3  3]\n",
      " [ 4  5  6  7]\n",
      " [ 8  9 10 11]]\n"
     ]
    }
   ],
   "execution_count": 131
  },
  {
   "metadata": {
    "ExecuteTime": {
     "end_time": "2025-04-23T10:29:20.854686Z",
     "start_time": "2025-04-23T10:29:20.850182Z"
    }
   },
   "cell_type": "code",
   "source": [
    "score = np.array([[80, 88], [82, 81], [75, 81]])\n",
    "print(np.mean(score, axis=0))"
   ],
   "id": "678182112d2c71df",
   "outputs": [
    {
     "name": "stdout",
     "output_type": "stream",
     "text": [
      "[79.         83.33333333]\n"
     ]
    }
   ],
   "execution_count": 135
  },
  {
   "metadata": {
    "ExecuteTime": {
     "end_time": "2025-04-23T10:39:16.318539Z",
     "start_time": "2025-04-23T10:39:16.314528Z"
    }
   },
   "cell_type": "code",
   "source": [
    "arr = np.arange(8).reshape(2, 2, 2)\n",
    "print(arr)\n",
    "print(np.cumsum(arr, axis=0))\n",
    "# 输出:\n",
    "# [[[0 1]\n",
    "#   [2 3]]\n",
    "#\n",
    "#  [[0+4 1+5] → [4 6]\n",
    "#   [2+6 3+7]] → [8 10]]"
   ],
   "id": "6540c36bfabe8898",
   "outputs": [
    {
     "name": "stdout",
     "output_type": "stream",
     "text": [
      "[[[0 1]\n",
      "  [2 3]]\n",
      "\n",
      " [[4 5]\n",
      "  [6 7]]]\n",
      "[[[ 0  1]\n",
      "  [ 2  3]]\n",
      "\n",
      " [[ 4  6]\n",
      "  [ 8 10]]]\n"
     ]
    }
   ],
   "execution_count": 137
  },
  {
   "metadata": {
    "ExecuteTime": {
     "end_time": "2025-04-23T10:40:14.190708Z",
     "start_time": "2025-04-23T10:40:14.185706Z"
    }
   },
   "cell_type": "code",
   "source": [
    "score = np.array([[80, 88], [82, 81], [75, 81]])\n",
    "print(score)\n",
    "result = np.argmin(score, axis=0)\n",
    "res = np.min(score, axis=0)\n",
    "#这样我们就可以知道最小的 81 是第二排的，是从前往后遍历的\n",
    "print(result, res)"
   ],
   "id": "68ec79c55368d583",
   "outputs": [
    {
     "name": "stdout",
     "output_type": "stream",
     "text": [
      "[[80 88]\n",
      " [82 81]\n",
      " [75 81]]\n",
      "[2 1] [75 81]\n"
     ]
    }
   ],
   "execution_count": 140
  },
  {
   "metadata": {
    "ExecuteTime": {
     "end_time": "2025-04-23T10:42:10.241912Z",
     "start_time": "2025-04-23T10:42:10.236911Z"
    }
   },
   "cell_type": "code",
   "source": [
    "# 标准差\n",
    "result = np.std(score, axis=0)\n",
    "print(result)\n",
    "# 10. 极 值\n",
    "result = np.ptp(score, axis=None)  #就是最大值和最小值的差\n",
    "print(result)"
   ],
   "id": "a00054cb5068fede",
   "outputs": [
    {
     "name": "stdout",
     "output_type": "stream",
     "text": [
      "[2.94392029 3.29983165]\n",
      "13\n"
     ]
    }
   ],
   "execution_count": 142
  },
  {
   "metadata": {
    "ExecuteTime": {
     "end_time": "2025-04-23T11:05:07.679079Z",
     "start_time": "2025-04-23T11:05:07.673101Z"
    }
   },
   "cell_type": "code",
   "source": [
    "a = np.array([[1, 2], [3, 4]])\n",
    "b = np.array([[5, 6], [7, 8]])\n",
    "# 要求 a,b 两个数组的维度相同\n",
    "# print ('沿轴 0 连接两个数组：')\n",
    "# print (np.concatenate((a,b),axis= 0))\n",
    "# print ('\\n')\n",
    "# print ('沿轴 1 连接两个数组：')\n",
    "# print (np.concatenate((a,b),axis = 1))\n",
    "# 2. 根据轴进行堆叠\n",
    "print('沿轴 0 连接两个数组：')\n",
    "print(np.stack((a, b), axis=0))\n",
    "print('\\n')\n",
    "print('沿轴 1 连接两个数组：')\n",
    "print(np.stack((a, b), axis=1))\n",
    "print('\\n')\n",
    "print('沿轴 2 连接两个数组：')\n",
    "print(np.stack((a, b), axis=2))"
   ],
   "id": "eaa4ea95d0b2119d",
   "outputs": [
    {
     "name": "stdout",
     "output_type": "stream",
     "text": [
      "沿轴 0 连接两个数组：\n",
      "[[[1 2]\n",
      "  [3 4]]\n",
      "\n",
      " [[5 6]\n",
      "  [7 8]]]\n",
      "\n",
      "\n",
      "沿轴 1 连接两个数组：\n",
      "[[[1 2]\n",
      "  [5 6]]\n",
      "\n",
      " [[3 4]\n",
      "  [7 8]]]\n",
      "\n",
      "\n",
      "沿轴 2 连接两个数组：\n",
      "[[[1 5]\n",
      "  [2 6]]\n",
      "\n",
      " [[3 7]\n",
      "  [4 8]]]\n"
     ]
    }
   ],
   "execution_count": 148
  },
  {
   "metadata": {},
   "cell_type": "markdown",
   "source": "# axis越来越深0，1，2",
   "id": "5f53fdc5efc47fea"
  },
  {
   "metadata": {
    "ExecuteTime": {
     "end_time": "2025-04-23T10:58:29.319363Z",
     "start_time": "2025-04-23T10:58:29.312549Z"
    }
   },
   "cell_type": "code",
   "source": [
    "red = np.random.rand(256, 256)\n",
    "green = np.random.rand(256, 256)\n",
    "blue = np.random.rand(256, 256)\n",
    "rgb = np.stack((red, green, blue), axis=2)\n",
    "print(rgb.shape)"
   ],
   "id": "fa7c4e6d2dbdd5a5",
   "outputs": [
    {
     "name": "stdout",
     "output_type": "stream",
     "text": [
      "(3, 256, 256)\n"
     ]
    }
   ],
   "execution_count": 146
  },
  {
   "metadata": {
    "ExecuteTime": {
     "end_time": "2025-04-23T13:46:28.620141Z",
     "start_time": "2025-04-23T13:46:28.600823Z"
    }
   },
   "cell_type": "code",
   "source": [
    "v1 = [[0, 1, 2, 3, 4, 5],\n",
    "      [6, 7, 8, 9, 10, 11]]\n",
    "v2 = [[12, 13, 14, 15, 16, 17],\n",
    "      [18, 19, 20, 21, 22, 23]]\n",
    "result = np.vstack((v1, v2))\n",
    "print(result)"
   ],
   "id": "efb3c0cef8e39bea",
   "outputs": [
    {
     "name": "stdout",
     "output_type": "stream",
     "text": [
      "[[ 0  1  2  3  4  5]\n",
      " [ 6  7  8  9 10 11]\n",
      " [12 13 14 15 16 17]\n",
      " [18 19 20 21 22 23]]\n"
     ]
    }
   ],
   "execution_count": 149
  },
  {
   "metadata": {
    "ExecuteTime": {
     "end_time": "2025-04-23T13:46:43.287301Z",
     "start_time": "2025-04-23T13:46:43.282185Z"
    }
   },
   "cell_type": "code",
   "source": [
    "# 4. 矩阵水平拼接\n",
    "v1 = [[0, 1, 2, 3, 4, 5],\n",
    "      [6, 7, 8, 9, 10, 11]]\n",
    "v2 = [[12, 13, 14, 15, 16, 17],\n",
    "      [18, 19, 20, 21, 22, 23]]\n",
    "result = np.hstack((v1, v2))\n",
    "print(result)"
   ],
   "id": "14575b27020c5664",
   "outputs": [
    {
     "name": "stdout",
     "output_type": "stream",
     "text": [
      "[[ 0  1  2  3  4  5 12 13 14 15 16 17]\n",
      " [ 6  7  8  9 10 11 18 19 20 21 22 23]]\n"
     ]
    }
   ],
   "execution_count": 150
  },
  {
   "metadata": {
    "ExecuteTime": {
     "end_time": "2025-04-23T13:49:09.111096Z",
     "start_time": "2025-04-23T13:49:09.101993Z"
    }
   },
   "cell_type": "code",
   "source": [
    "arr = np.arange(9).reshape(3, 3)\n",
    "print('将数组分为三个大小相等的子数组：')\n",
    "b = np.split(arr, 3)\n",
    "print(b)"
   ],
   "id": "4182de2713f90e65",
   "outputs": [
    {
     "name": "stdout",
     "output_type": "stream",
     "text": [
      "将数组分为三个大小相等的子数组：\n",
      "[array([[0, 1, 2]]), array([[3, 4, 5]]), array([[6, 7, 8]])]\n"
     ]
    }
   ],
   "execution_count": 151
  },
  {
   "metadata": {
    "ExecuteTime": {
     "end_time": "2025-04-23T14:03:54.507707Z",
     "start_time": "2025-04-23T14:03:54.501885Z"
    }
   },
   "cell_type": "code",
   "source": [
    "arr = np.array([\n",
    "    [1, 2, 3, 4],  # 第0行\n",
    "    [5, 6, 7, 8],  # 第1行\n",
    "    [9, 10, 11, 12]  # 第2行\n",
    "])\n",
    "b, c = np.split(arr, [0], axis=0)\n",
    "print(b)\n",
    "print(c)\n",
    "# print(d)\n"
   ],
   "id": "c9eeb08e659dd108",
   "outputs": [
    {
     "name": "stdout",
     "output_type": "stream",
     "text": [
      "[]\n",
      "[[ 1  2  3  4]\n",
      " [ 5  6  7  8]\n",
      " [ 9 10 11 12]]\n"
     ]
    }
   ],
   "execution_count": 160
  },
  {
   "metadata": {
    "ExecuteTime": {
     "end_time": "2025-04-23T14:19:36.213354Z",
     "start_time": "2025-04-23T14:19:36.208537Z"
    }
   },
   "cell_type": "code",
   "source": [
    "# 2.numpy.hsplit 函数用于水平分割数组，通过指定要返回的相同形状的数组数量来拆分原数组。\n",
    "harr = np.floor(10 * np.random.random((2, 6)))\n",
    "print('原 array：')\n",
    "print(harr)\n",
    "print('拆分后：')\n",
    "print(np.hsplit(harr, [2, 3]))"
   ],
   "id": "cbedc34e4ecbf6b0",
   "outputs": [
    {
     "name": "stdout",
     "output_type": "stream",
     "text": [
      "原 array：\n",
      "[[5. 8. 9. 6. 0. 3.]\n",
      " [9. 3. 7. 0. 2. 9.]]\n",
      "拆分后：\n",
      "[array([[5., 8.],\n",
      "       [9., 3.]]), array([[9.],\n",
      "       [7.]]), array([[6., 0., 3.],\n",
      "       [0., 2., 9.]])]\n"
     ]
    }
   ],
   "execution_count": 165
  },
  {
   "metadata": {
    "ExecuteTime": {
     "end_time": "2025-04-23T14:21:45.230130Z",
     "start_time": "2025-04-23T14:21:45.225136Z"
    }
   },
   "cell_type": "code",
   "source": [
    "a = np.nan\n",
    "b = np.inf\n",
    "print(a, type(a))\n",
    "print(b, type(b))"
   ],
   "id": "12fd31b79c7cddba",
   "outputs": [
    {
     "name": "stdout",
     "output_type": "stream",
     "text": [
      "nan <class 'float'>\n",
      "inf <class 'float'>\n"
     ]
    }
   ],
   "execution_count": 166
  },
  {
   "metadata": {
    "ExecuteTime": {
     "end_time": "2025-04-23T14:25:15.337897Z",
     "start_time": "2025-04-23T14:25:15.332552Z"
    }
   },
   "cell_type": "code",
   "source": [
    "t = np.arange(24, dtype=float).reshape(4, 6)\n",
    "# 将三行四列的数改成 nan\n",
    "t[3, 4] = np.nan\n",
    "print(t)\n",
    "print(np.count_nonzero(t))"
   ],
   "id": "6e45e01b69772d94",
   "outputs": [
    {
     "name": "stdout",
     "output_type": "stream",
     "text": [
      "[[ 0.  1.  2.  3.  4.  5.]\n",
      " [ 6.  7.  8.  9. 10. 11.]\n",
      " [12. 13. 14. 15. 16. 17.]\n",
      " [18. 19. 20. 21. nan 23.]]\n",
      "23\n"
     ]
    }
   ],
   "execution_count": 171
  },
  {
   "metadata": {
    "ExecuteTime": {
     "end_time": "2025-04-23T14:25:49.919473Z",
     "start_time": "2025-04-23T14:25:49.913470Z"
    }
   },
   "cell_type": "code",
   "source": [
    "t[np.isnan(t)] = 0\n",
    "print(t)"
   ],
   "id": "98888e13e02c424c",
   "outputs": [
    {
     "name": "stdout",
     "output_type": "stream",
     "text": [
      "[[ 0.  1.  2.  3.  4.  5.]\n",
      " [ 6.  7.  8.  9. 10. 11.]\n",
      " [12. 13. 14. 15. 16. 17.]\n",
      " [18. 19. 20. 21.  0. 23.]]\n"
     ]
    }
   ],
   "execution_count": 172
  },
  {
   "metadata": {
    "ExecuteTime": {
     "end_time": "2025-04-23T14:27:04.257976Z",
     "start_time": "2025-04-23T14:27:04.252630Z"
    }
   },
   "cell_type": "code",
   "source": [
    "t = np.arange(24).reshape(4, 6).astype('float')  #\n",
    "# 将数组中的一部分替换 nan\n",
    "t[1, 3:] = np.nan\n",
    "print(t)"
   ],
   "id": "aa6eb6b2b2b22754",
   "outputs": [
    {
     "name": "stdout",
     "output_type": "stream",
     "text": [
      "[[ 0.  1.  2.  3.  4.  5.]\n",
      " [ 6.  7.  8. nan nan nan]\n",
      " [12. 13. 14. 15. 16. 17.]\n",
      " [18. 19. 20. 21. 22. 23.]]\n"
     ]
    }
   ],
   "execution_count": 173
  },
  {
   "metadata": {
    "ExecuteTime": {
     "end_time": "2025-04-23T15:19:04.980576Z",
     "start_time": "2025-04-23T15:19:04.861762Z"
    }
   },
   "cell_type": "code",
   "source": [
    "# a = np.arange(12).reshape(3, 4)\n",
    "# print('原数组：')\n",
    "# print(a)\n",
    "# print('\\n')\n",
    "# print('对换数组：')\n",
    "# print(np.transpose(a))\n",
    "# # 与 transpose 一致\n",
    "# a = np.arange(12).reshape(3, 4)\n",
    "# print('原数组：')\n",
    "# print(a)\n",
    "# print('\\n')\n",
    "# print('转置数组：')\n",
    "# print(a.T)\n",
    "# 函数用于交换数组的两个轴\n",
    "t1 = np.arange(24).reshape(4, 6)\n",
    "re = t1.swapaxes(0, 1)\n",
    "print(' 原 数 组 ：')\n",
    "print(t1)\n",
    "print('\\n')\n",
    "print('调用 swapaxes 函数后的数组：')\n",
    "print(re)\n",
    "t = np.rollaxis(t, 3, 0)\n",
    "print(t.shape)"
   ],
   "id": "6cdf34f8df01e3fc",
   "outputs": [
    {
     "name": "stdout",
     "output_type": "stream",
     "text": [
      " 原 数 组 ：\n",
      "[[ 0  1  2  3  4  5]\n",
      " [ 6  7  8  9 10 11]\n",
      " [12 13 14 15 16 17]\n",
      " [18 19 20 21 22 23]]\n",
      "\n",
      "\n",
      "调用 swapaxes 函数后的数组：\n",
      "[[ 0  6 12 18]\n",
      " [ 1  7 13 19]\n",
      " [ 2  8 14 20]\n",
      " [ 3  9 15 21]\n",
      " [ 4 10 16 22]\n",
      " [ 5 11 17 23]]\n"
     ]
    },
    {
     "ename": "AxisError",
     "evalue": "axis 3 is out of bounds for array of dimension 2",
     "output_type": "error",
     "traceback": [
      "\u001B[31m---------------------------------------------------------------------------\u001B[39m",
      "\u001B[31mAxisError\u001B[39m                                 Traceback (most recent call last)",
      "\u001B[36mCell\u001B[39m\u001B[36m \u001B[39m\u001B[32mIn[180]\u001B[39m\u001B[32m, line 22\u001B[39m\n\u001B[32m     20\u001B[39m \u001B[38;5;28mprint\u001B[39m(\u001B[33m'\u001B[39m\u001B[33m调用 swapaxes 函数后的数组：\u001B[39m\u001B[33m'\u001B[39m)\n\u001B[32m     21\u001B[39m \u001B[38;5;28mprint\u001B[39m(re)\n\u001B[32m---> \u001B[39m\u001B[32m22\u001B[39m t = \u001B[43mnp\u001B[49m\u001B[43m.\u001B[49m\u001B[43mrollaxis\u001B[49m\u001B[43m(\u001B[49m\u001B[43mt\u001B[49m\u001B[43m,\u001B[49m\u001B[43m \u001B[49m\u001B[32;43m3\u001B[39;49m\u001B[43m,\u001B[49m\u001B[43m \u001B[49m\u001B[32;43m0\u001B[39;49m\u001B[43m)\u001B[49m\n\u001B[32m     23\u001B[39m \u001B[38;5;28mprint\u001B[39m(t.shape)\n",
      "\u001B[36mFile \u001B[39m\u001B[32mD:\\Python312\\Lib\\site-packages\\numpy\\_core\\numeric.py:1369\u001B[39m, in \u001B[36mrollaxis\u001B[39m\u001B[34m(a, axis, start)\u001B[39m\n\u001B[32m   1297\u001B[39m \u001B[38;5;250m\u001B[39m\u001B[33;03m\"\"\"\u001B[39;00m\n\u001B[32m   1298\u001B[39m \u001B[33;03mRoll the specified axis backwards, until it lies in a given position.\u001B[39;00m\n\u001B[32m   1299\u001B[39m \n\u001B[32m   (...)\u001B[39m\u001B[32m   1366\u001B[39m \n\u001B[32m   1367\u001B[39m \u001B[33;03m\"\"\"\u001B[39;00m\n\u001B[32m   1368\u001B[39m n = a.ndim\n\u001B[32m-> \u001B[39m\u001B[32m1369\u001B[39m axis = \u001B[43mnormalize_axis_index\u001B[49m\u001B[43m(\u001B[49m\u001B[43maxis\u001B[49m\u001B[43m,\u001B[49m\u001B[43m \u001B[49m\u001B[43mn\u001B[49m\u001B[43m)\u001B[49m\n\u001B[32m   1370\u001B[39m \u001B[38;5;28;01mif\u001B[39;00m start < \u001B[32m0\u001B[39m:\n\u001B[32m   1371\u001B[39m     start += n\n",
      "\u001B[31mAxisError\u001B[39m: axis 3 is out of bounds for array of dimension 2"
     ]
    }
   ],
   "execution_count": 180
  },
  {
   "metadata": {
    "ExecuteTime": {
     "end_time": "2025-04-23T15:19:50.007769Z",
     "start_time": "2025-04-23T15:19:50.002566Z"
    }
   },
   "cell_type": "code",
   "source": [
    "# 创建一个三维数组\n",
    "a = np.ones((3, 4, 5))\n",
    "\n",
    "# 将轴2滚动到位置0\n",
    "b = np.rollaxis(a, 2)\n",
    "print(b.shape)  # 输出: (5, 3, 4)\n",
    "\n",
    "# 将轴0滚动到位置2\n",
    "c = np.rollaxis(a, 0, 2)\n",
    "print(c.shape)  # 输出: (4, 3, 5)"
   ],
   "id": "69f53b219c335c4d",
   "outputs": [
    {
     "name": "stdout",
     "output_type": "stream",
     "text": [
      "(5, 3, 4)\n",
      "(4, 3, 5)\n",
      "[[[1. 1. 1. 1. 1.]\n",
      "  [1. 1. 1. 1. 1.]\n",
      "  [1. 1. 1. 1. 1.]]\n",
      "\n",
      " [[1. 1. 1. 1. 1.]\n",
      "  [1. 1. 1. 1. 1.]\n",
      "  [1. 1. 1. 1. 1.]]\n",
      "\n",
      " [[1. 1. 1. 1. 1.]\n",
      "  [1. 1. 1. 1. 1.]\n",
      "  [1. 1. 1. 1. 1.]]\n",
      "\n",
      " [[1. 1. 1. 1. 1.]\n",
      "  [1. 1. 1. 1. 1.]\n",
      "  [1. 1. 1. 1. 1.]]]\n"
     ]
    }
   ],
   "execution_count": 182
  }
 ],
 "metadata": {
  "kernelspec": {
   "display_name": "Python 3",
   "language": "python",
   "name": "python3"
  },
  "language_info": {
   "codemirror_mode": {
    "name": "ipython",
    "version": 2
   },
   "file_extension": ".py",
   "mimetype": "text/x-python",
   "name": "python",
   "nbconvert_exporter": "python",
   "pygments_lexer": "ipython2",
   "version": "2.7.6"
  }
 },
 "nbformat": 4,
 "nbformat_minor": 5
}
