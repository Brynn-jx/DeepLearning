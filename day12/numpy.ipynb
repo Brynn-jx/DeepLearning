{
 "cells": [
  {
   "cell_type": "code",
   "id": "initial_id",
   "metadata": {
    "collapsed": true,
    "ExecuteTime": {
     "end_time": "2025-04-22T04:12:41.039124Z",
     "start_time": "2025-04-22T04:12:41.032493Z"
    }
   },
   "source": "import numpy as np",
   "outputs": [],
   "execution_count": 40
  },
  {
   "metadata": {
    "ExecuteTime": {
     "end_time": "2025-04-22T02:41:13.730786Z",
     "start_time": "2025-04-22T02:41:13.722842Z"
    }
   },
   "cell_type": "code",
   "source": [
    "a = np.array([1, 2, 3])\n",
    "print(a.ndim)\n",
    "print(a.shape)\n",
    "print(a.size)\n",
    "print(a)"
   ],
   "id": "e40d677fe74c0fee",
   "outputs": [
    {
     "name": "stdout",
     "output_type": "stream",
     "text": [
      "1\n",
      "(3,)\n",
      "3\n",
      "[1 2 3]\n"
     ]
    }
   ],
   "execution_count": 7
  },
  {
   "metadata": {
    "ExecuteTime": {
     "end_time": "2025-04-22T02:43:33.677559Z",
     "start_time": "2025-04-22T02:43:33.673272Z"
    }
   },
   "cell_type": "code",
   "source": [
    "b=np.ones((2,3))\n",
    "print(b.size)\n",
    "print(b.shape)\n",
    "print(b.ndim)\n",
    "print(b)"
   ],
   "id": "4da6332bb284e485",
   "outputs": [
    {
     "name": "stdout",
     "output_type": "stream",
     "text": [
      "6\n",
      "(2, 3)\n",
      "2\n",
      "[[1. 1. 1.]\n",
      " [1. 1. 1.]]\n"
     ]
    }
   ],
   "execution_count": 13
  },
  {
   "metadata": {
    "ExecuteTime": {
     "end_time": "2025-04-22T03:28:23.834250Z",
     "start_time": "2025-04-22T03:28:23.821619Z"
    }
   },
   "cell_type": "code",
   "source": [
    "# 最小维度 \n",
    "a = np.array([1, 2, 3, 4, 5], ndmin =  2)\n",
    "print (a)"
   ],
   "id": "c91e46d652f5e00c",
   "outputs": [
    {
     "name": "stdout",
     "output_type": "stream",
     "text": [
      "[[1 2 3 4 5]]\n"
     ]
    }
   ],
   "execution_count": 22
  },
  {
   "metadata": {
    "ExecuteTime": {
     "end_time": "2025-04-22T03:41:22.794259Z",
     "start_time": "2025-04-22T03:41:22.783679Z"
    }
   },
   "cell_type": "code",
   "source": [
    "a = np.array([1,  2,  3.21], dtype=np.complex64)  \n",
    "print (a)"
   ],
   "id": "30250c5d3069c86a",
   "outputs": [
    {
     "name": "stdout",
     "output_type": "stream",
     "text": [
      "[1.  +0.j 2.  +0.j 3.21+0.j]\n"
     ]
    }
   ],
   "execution_count": 32
  },
  {
   "metadata": {
    "ExecuteTime": {
     "end_time": "2025-04-22T04:13:24.585936Z",
     "start_time": "2025-04-22T04:13:24.569155Z"
    }
   },
   "cell_type": "code",
   "source": [
    "dt = np.dtype([('age', np.int8), ('height', np.float32)])\n",
    "a = np.array([[(10,1),(20,2),(30,3)], [(10,1),(20,2),(30,3)]], dtype = dt) \n",
    "print(a['age'])\n",
    "print(a['height'])\n",
    "print(a.ndim)\n",
    "print(a.dtype)\n",
    "print(a.itemsize)"
   ],
   "id": "353a9fcd68a7ca75",
   "outputs": [
    {
     "name": "stdout",
     "output_type": "stream",
     "text": [
      "[[10 20 30]\n",
      " [10 20 30]]\n",
      "[[1. 2. 3.]\n",
      " [1. 2. 3.]]\n",
      "2\n",
      "[('age', 'i1'), ('height', '<f4')]\n",
      "5\n"
     ]
    }
   ],
   "execution_count": 42
  },
  {
   "metadata": {
    "ExecuteTime": {
     "end_time": "2025-04-22T04:15:44.591975Z",
     "start_time": "2025-04-22T04:15:44.579385Z"
    }
   },
   "cell_type": "code",
   "source": [
    "a = np.arange(24)  \n",
    "print (a.ndim)             # a 现只有一个维度\n",
    "# 现在调整其大小\n",
    "b = a.reshape(2,4,3)  # b 现在拥有三个维度\n",
    "print (b.ndim)\n",
    "print(b)"
   ],
   "id": "de91483f2476bd69",
   "outputs": [
    {
     "name": "stdout",
     "output_type": "stream",
     "text": [
      "1\n",
      "3\n",
      "[[[ 0  1  2]\n",
      "  [ 3  4  5]\n",
      "  [ 6  7  8]\n",
      "  [ 9 10 11]]\n",
      "\n",
      " [[12 13 14]\n",
      "  [15 16 17]\n",
      "  [18 19 20]\n",
      "  [21 22 23]]]\n"
     ]
    }
   ],
   "execution_count": 50
  },
  {
   "metadata": {
    "ExecuteTime": {
     "end_time": "2025-04-22T04:16:32.872927Z",
     "start_time": "2025-04-22T04:16:32.860197Z"
    }
   },
   "cell_type": "code",
   "source": [
    "x = np.array([1,2,3,4,5])  \n",
    "print (x.flags)"
   ],
   "id": "d2da8afc5fdf969d",
   "outputs": [
    {
     "name": "stdout",
     "output_type": "stream",
     "text": [
      "  C_CONTIGUOUS : True\n",
      "  F_CONTIGUOUS : True\n",
      "  OWNDATA : True\n",
      "  WRITEABLE : True\n",
      "  ALIGNED : True\n",
      "  WRITEBACKIFCOPY : False\n",
      "\n"
     ]
    }
   ],
   "execution_count": 52
  },
  {
   "metadata": {},
   "cell_type": "code",
   "outputs": [],
   "execution_count": null,
   "source": "",
   "id": "ad78ae3bb9795082"
  }
 ],
 "metadata": {
  "kernelspec": {
   "display_name": "Python 3",
   "language": "python",
   "name": "python3"
  },
  "language_info": {
   "codemirror_mode": {
    "name": "ipython",
    "version": 2
   },
   "file_extension": ".py",
   "mimetype": "text/x-python",
   "name": "python",
   "nbconvert_exporter": "python",
   "pygments_lexer": "ipython2",
   "version": "2.7.6"
  }
 },
 "nbformat": 4,
 "nbformat_minor": 5
}
