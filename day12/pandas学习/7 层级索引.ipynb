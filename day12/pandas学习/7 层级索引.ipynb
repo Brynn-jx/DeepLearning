{
 "cells": [
  {
   "metadata": {},
   "cell_type": "markdown",
   "source": "# 7 层级索引（hierarchical indexing）（机器学习，深度学习不重要）",
   "id": "867cc7f2cd72b346"
  },
  {
   "metadata": {
    "ExecuteTime": {
     "end_time": "2025-04-28T10:12:02.190371Z",
     "start_time": "2025-04-28T10:12:01.071553Z"
    }
   },
   "cell_type": "code",
   "source": [
    "import pandas as pd\n",
    "import numpy as np"
   ],
   "id": "afaeec180a7c9ba4",
   "outputs": [],
   "execution_count": 1
  },
  {
   "metadata": {
    "ExecuteTime": {
     "end_time": "2025-04-28T12:17:08.181951Z",
     "start_time": "2025-04-28T12:17:08.171451Z"
    }
   },
   "cell_type": "code",
   "source": [
    "#MultiIndex是层级索引，索引类型的一种\n",
    "index1 = pd.MultiIndex.from_arrays([['a', 'a', 'a', 'b', 'b', 'b', 'c', 'c', 'c', 'd', 'd', 'd'],\n",
    "                [0, 1, 2, 0, 1, 2, 0, 1, 2, 0, 1, 2]], names=['cloth', 'size'])\n",
    "\n",
    "ser_obj = pd.Series(np.random.randn(12),index=index1)\n",
    "print(ser_obj)\n",
    "print(type(ser_obj)) #Series\n",
    "print(type(ser_obj.index)) #索引类型，MultiIndex\n",
    "print(ser_obj.index)\n",
    "print(ser_obj.index.levels) #层级索引的索引值\n",
    "ser_obj.index.codes  #没那么重要，代表索引的位置\n"
   ],
   "id": "7031c38cd614add4",
   "outputs": [
    {
     "name": "stdout",
     "output_type": "stream",
     "text": [
      "cloth  size\n",
      "a      0       0.004332\n",
      "       1       0.975508\n",
      "       2      -0.502520\n",
      "b      0       1.699353\n",
      "       1      -0.254876\n",
      "       2      -0.155373\n",
      "c      0      -2.507849\n",
      "       1       0.193577\n",
      "       2      -1.123825\n",
      "d      0      -0.405544\n",
      "       1       0.170775\n",
      "       2       1.537193\n",
      "dtype: float64\n",
      "<class 'pandas.core.series.Series'>\n",
      "<class 'pandas.core.indexes.multi.MultiIndex'>\n",
      "MultiIndex([('a', 0),\n",
      "            ('a', 1),\n",
      "            ('a', 2),\n",
      "            ('b', 0),\n",
      "            ('b', 1),\n",
      "            ('b', 2),\n",
      "            ('c', 0),\n",
      "            ('c', 1),\n",
      "            ('c', 2),\n",
      "            ('d', 0),\n",
      "            ('d', 1),\n",
      "            ('d', 2)],\n",
      "           names=['cloth', 'size'])\n",
      "[['a', 'b', 'c', 'd'], [0, 1, 2]]\n"
     ]
    },
    {
     "data": {
      "text/plain": [
       "FrozenList([[0, 0, 0, 1, 1, 1, 2, 2, 2, 3, 3, 3], [0, 1, 2, 0, 1, 2, 0, 1, 2, 0, 1, 2]])"
      ]
     },
     "execution_count": 12,
     "metadata": {},
     "output_type": "execute_result"
    }
   ],
   "execution_count": 12
  },
  {
   "metadata": {
    "ExecuteTime": {
     "end_time": "2025-04-28T12:15:42.675281Z",
     "start_time": "2025-04-28T12:15:42.666953Z"
    }
   },
   "cell_type": "code",
   "source": "ser_obj",
   "id": "1f4b82c229388fd3",
   "outputs": [
    {
     "data": {
      "text/plain": [
       "cloth  size\n",
       "0      a       0.135378\n",
       "1      a      -0.397541\n",
       "2      a       0.733407\n",
       "0      b      -0.600216\n",
       "1      b       1.213899\n",
       "2      b      -0.348679\n",
       "0      c       0.400697\n",
       "1      c      -0.163976\n",
       "2      c      -1.249814\n",
       "0      d      -1.638575\n",
       "1      d      -1.242044\n",
       "2      d       0.467211\n",
       "dtype: float64"
      ]
     },
     "execution_count": 10,
     "metadata": {},
     "output_type": "execute_result"
    }
   ],
   "execution_count": 10
  },
  {
   "metadata": {
    "ExecuteTime": {
     "end_time": "2025-04-28T12:16:09.027752Z",
     "start_time": "2025-04-28T12:16:09.023434Z"
    }
   },
   "cell_type": "code",
   "source": "print(ser_obj[0])",
   "id": "45691fa97ca97d75",
   "outputs": [
    {
     "name": "stdout",
     "output_type": "stream",
     "text": [
      "size\n",
      "a    0.135378\n",
      "b   -0.600216\n",
      "c    0.400697\n",
      "d   -1.638575\n",
      "dtype: float64\n"
     ]
    }
   ],
   "execution_count": 11
  },
  {
   "metadata": {
    "ExecuteTime": {
     "end_time": "2025-04-28T12:17:32.938258Z",
     "start_time": "2025-04-28T12:17:32.930199Z"
    }
   },
   "cell_type": "code",
   "source": [
    "print(ser_obj.swaplevel())\n",
    "print('-'*50)\n",
    "print(ser_obj)\n",
    "print('-'*50)\n",
    "ser_obj=ser_obj.swaplevel()\n",
    "print(ser_obj)"
   ],
   "id": "a6f6b9ea5bcaee93",
   "outputs": [
    {
     "name": "stdout",
     "output_type": "stream",
     "text": [
      "size  cloth\n",
      "0     a        0.004332\n",
      "1     a        0.975508\n",
      "2     a       -0.502520\n",
      "0     b        1.699353\n",
      "1     b       -0.254876\n",
      "2     b       -0.155373\n",
      "0     c       -2.507849\n",
      "1     c        0.193577\n",
      "2     c       -1.123825\n",
      "0     d       -0.405544\n",
      "1     d        0.170775\n",
      "2     d        1.537193\n",
      "dtype: float64\n",
      "--------------------------------------------------\n",
      "cloth  size\n",
      "a      0       0.004332\n",
      "       1       0.975508\n",
      "       2      -0.502520\n",
      "b      0       1.699353\n",
      "       1      -0.254876\n",
      "       2      -0.155373\n",
      "c      0      -2.507849\n",
      "       1       0.193577\n",
      "       2      -1.123825\n",
      "d      0      -0.405544\n",
      "       1       0.170775\n",
      "       2       1.537193\n",
      "dtype: float64\n",
      "--------------------------------------------------\n",
      "size  cloth\n",
      "0     a        0.004332\n",
      "1     a        0.975508\n",
      "2     a       -0.502520\n",
      "0     b        1.699353\n",
      "1     b       -0.254876\n",
      "2     b       -0.155373\n",
      "0     c       -2.507849\n",
      "1     c        0.193577\n",
      "2     c       -1.123825\n",
      "0     d       -0.405544\n",
      "1     d        0.170775\n",
      "2     d        1.537193\n",
      "dtype: float64\n"
     ]
    }
   ],
   "execution_count": 13
  },
  {
   "metadata": {
    "ExecuteTime": {
     "end_time": "2025-04-28T12:27:56.219475Z",
     "start_time": "2025-04-28T12:27:56.213481Z"
    }
   },
   "cell_type": "code",
   "source": "print(ser_obj.sort_index(level=0))  #层级索引按那个索引级别排序,level=0表示按最外层索引排序",
   "id": "2ea262af1767c28f",
   "outputs": [
    {
     "name": "stdout",
     "output_type": "stream",
     "text": [
      "size  cloth\n",
      "0     a        0.004332\n",
      "      b        1.699353\n",
      "      c       -2.507849\n",
      "      d       -0.405544\n",
      "1     a        0.975508\n",
      "      b       -0.254876\n",
      "      c        0.193577\n",
      "      d        0.170775\n",
      "2     a       -0.502520\n",
      "      b       -0.155373\n",
      "      c       -1.123825\n",
      "      d        1.537193\n",
      "dtype: float64\n"
     ]
    }
   ],
   "execution_count": 16
  },
  {
   "metadata": {
    "ExecuteTime": {
     "end_time": "2025-04-28T12:30:18.474003Z",
     "start_time": "2025-04-28T12:30:18.466797Z"
    }
   },
   "cell_type": "code",
   "source": [
    "df_obj = ser_obj.unstack(level=1)\n",
    "print(df_obj)\n",
    "print(ser_obj)"
   ],
   "id": "d06db3bbdfd56f87",
   "outputs": [
    {
     "name": "stdout",
     "output_type": "stream",
     "text": [
      "cloth         a         b         c         d\n",
      "size                                         \n",
      "0      0.004332  1.699353 -2.507849 -0.405544\n",
      "1      0.975508 -0.254876  0.193577  0.170775\n",
      "2     -0.502520 -0.155373 -1.123825  1.537193\n",
      "size  cloth\n",
      "0     a        0.004332\n",
      "1     a        0.975508\n",
      "2     a       -0.502520\n",
      "0     b        1.699353\n",
      "1     b       -0.254876\n",
      "2     b       -0.155373\n",
      "0     c       -2.507849\n",
      "1     c        0.193577\n",
      "2     c       -1.123825\n",
      "0     d       -0.405544\n",
      "1     d        0.170775\n",
      "2     d        1.537193\n",
      "dtype: float64\n"
     ]
    }
   ],
   "execution_count": 22
  },
  {
   "metadata": {
    "ExecuteTime": {
     "end_time": "2025-04-28T12:31:54.987497Z",
     "start_time": "2025-04-28T12:31:54.981494Z"
    }
   },
   "cell_type": "code",
   "source": "print(df_obj.stack())",
   "id": "506665e02b4698ac",
   "outputs": [
    {
     "name": "stdout",
     "output_type": "stream",
     "text": [
      "size  cloth\n",
      "0     a        0.004332\n",
      "      b        1.699353\n",
      "      c       -2.507849\n",
      "      d       -0.405544\n",
      "1     a        0.975508\n",
      "      b       -0.254876\n",
      "      c        0.193577\n",
      "      d        0.170775\n",
      "2     a       -0.502520\n",
      "      b       -0.155373\n",
      "      c       -1.123825\n",
      "      d        1.537193\n",
      "dtype: float64\n"
     ]
    }
   ],
   "execution_count": 23
  }
 ],
 "metadata": {
  "kernelspec": {
   "display_name": "Python 3",
   "language": "python",
   "name": "python3"
  },
  "language_info": {
   "codemirror_mode": {
    "name": "ipython",
    "version": 2
   },
   "file_extension": ".py",
   "mimetype": "text/x-python",
   "name": "python",
   "nbconvert_exporter": "python",
   "pygments_lexer": "ipython2",
   "version": "2.7.6"
  }
 },
 "nbformat": 4,
 "nbformat_minor": 5
}
