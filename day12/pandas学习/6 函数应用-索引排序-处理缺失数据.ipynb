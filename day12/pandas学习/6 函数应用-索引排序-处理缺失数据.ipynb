{
 "cells": [
  {
   "metadata": {},
   "cell_type": "markdown",
   "source": "# pandas函数应用",
   "id": "6c1411cb58234363"
  },
  {
   "metadata": {
    "ExecuteTime": {
     "end_time": "2025-04-27T00:45:35.469489Z",
     "start_time": "2025-04-27T00:45:32.919314Z"
    }
   },
   "cell_type": "code",
   "source": [
    "import numpy as np\n",
    "import pandas as pd"
   ],
   "id": "bd38a33a3f79a011",
   "outputs": [],
   "execution_count": 1
  },
  {
   "metadata": {
    "ExecuteTime": {
     "end_time": "2025-04-27T00:45:50.620990Z",
     "start_time": "2025-04-27T00:45:50.609471Z"
    }
   },
   "cell_type": "code",
   "source": [
    "df = pd.DataFrame(np.random.randn(5,4) - 1)\n",
    "print(df)\n",
    "\n",
    "print(np.abs(df)) #绝对值"
   ],
   "id": "ad7ecc563cc9bbd4",
   "outputs": [
    {
     "name": "stdout",
     "output_type": "stream",
     "text": [
      "          0         1         2         3\n",
      "0 -1.408781  2.576409 -1.622139 -1.366035\n",
      "1 -0.210130  0.717216 -1.832954 -0.810010\n",
      "2 -0.447475 -0.114799 -2.307896  0.561387\n",
      "3 -0.811377 -0.641894 -2.306490  2.480790\n",
      "4 -0.511282 -1.159709 -1.156054  0.624016\n",
      "          0         1         2         3\n",
      "0  1.408781  2.576409  1.622139  1.366035\n",
      "1  0.210130  0.717216  1.832954  0.810010\n",
      "2  0.447475  0.114799  2.307896  0.561387\n",
      "3  0.811377  0.641894  2.306490  2.480790\n",
      "4  0.511282  1.159709  1.156054  0.624016\n"
     ]
    }
   ],
   "execution_count": 2
  },
  {
   "metadata": {
    "ExecuteTime": {
     "end_time": "2025-04-27T00:47:44.247083Z",
     "start_time": "2025-04-27T00:47:44.237892Z"
    }
   },
   "cell_type": "code",
   "source": [
    "# apply应用于每一列\n",
    "print(df.apply(lambda x: np.max(x)))\n",
    "print(df.apply(lambda x: np.mean(x)))"
   ],
   "id": "fe16e33d6f9f7daf",
   "outputs": [
    {
     "name": "stdout",
     "output_type": "stream",
     "text": [
      "0   -0.210130\n",
      "1    2.576409\n",
      "2   -1.156054\n",
      "3    2.480790\n",
      "dtype: float64\n",
      "0   -0.677809\n",
      "1    0.275445\n",
      "2   -1.845107\n",
      "3    0.298030\n",
      "dtype: float64\n"
     ]
    }
   ],
   "execution_count": 4
  },
  {
   "metadata": {
    "ExecuteTime": {
     "end_time": "2025-04-27T00:48:35.275869Z",
     "start_time": "2025-04-27T00:48:35.269650Z"
    }
   },
   "cell_type": "code",
   "source": [
    "# 应用于行\n",
    "print(df.apply(lambda x : x.max(), axis=1))"
   ],
   "id": "7f509c57fd296f1a",
   "outputs": [
    {
     "name": "stdout",
     "output_type": "stream",
     "text": [
      "0    2.576409\n",
      "1    0.717216\n",
      "2    0.561387\n",
      "3    2.480790\n",
      "4    0.624016\n",
      "dtype: float64\n"
     ]
    }
   ],
   "execution_count": 5
  },
  {
   "metadata": {
    "ExecuteTime": {
     "end_time": "2025-04-27T00:50:27.461476Z",
     "start_time": "2025-04-27T00:50:27.451949Z"
    }
   },
   "cell_type": "code",
   "source": [
    "print(df.map(lambda x : '%.5f' % x))\n",
    "df.dtypes"
   ],
   "id": "f52a3247c646ac8e",
   "outputs": [
    {
     "name": "stdout",
     "output_type": "stream",
     "text": [
      "          0         1         2         3\n",
      "0  -1.40878   2.57641  -1.62214  -1.36603\n",
      "1  -0.21013   0.71722  -1.83295  -0.81001\n",
      "2  -0.44747  -0.11480  -2.30790   0.56139\n",
      "3  -0.81138  -0.64189  -2.30649   2.48079\n",
      "4  -0.51128  -1.15971  -1.15605   0.62402\n"
     ]
    },
    {
     "data": {
      "text/plain": [
       "0    float64\n",
       "1    float64\n",
       "2    float64\n",
       "3    float64\n",
       "dtype: object"
      ]
     },
     "execution_count": 8,
     "metadata": {},
     "output_type": "execute_result"
    }
   ],
   "execution_count": 8
  },
  {
   "metadata": {},
   "cell_type": "markdown",
   "source": "## 6.4 索引排序（不重要）",
   "id": "ba084ac71bde7ec"
  },
  {
   "metadata": {
    "ExecuteTime": {
     "end_time": "2025-04-27T00:54:16.050951Z",
     "start_time": "2025-04-27T00:54:16.040715Z"
    }
   },
   "cell_type": "code",
   "source": [
    "# Series\n",
    "print(np.random.randint(5, size=5))\n",
    "print('-'*50)\n",
    "s4 = pd.Series(range(10, 15), index = np.random.randint(5, size=5)) #索引随机生成\n",
    "print(s4)\n",
    "print('-'*50)\n",
    "# 索引排序,sort_index返回一个新的排好索引的series\n",
    "print(s4.sort_index())\n",
    "print(s4)\n",
    "# s4.loc[0:3]  loc索引值不唯一时直接报错\n",
    "print(s4.iloc[0:3])\n",
    "s4[0:3]  #默认用的位置索引"
   ],
   "id": "9518b2bb950906ee",
   "outputs": [
    {
     "name": "stdout",
     "output_type": "stream",
     "text": [
      "[4 3 3 0 3]\n",
      "--------------------------------------------------\n",
      "1    10\n",
      "1    11\n",
      "1    12\n",
      "3    13\n",
      "2    14\n",
      "dtype: int64\n",
      "--------------------------------------------------\n",
      "1    10\n",
      "1    11\n",
      "1    12\n",
      "2    14\n",
      "3    13\n",
      "dtype: int64\n",
      "1    10\n",
      "1    11\n",
      "1    12\n",
      "3    13\n",
      "2    14\n",
      "dtype: int64\n",
      "1    10\n",
      "1    11\n",
      "1    12\n",
      "dtype: int64\n"
     ]
    },
    {
     "data": {
      "text/plain": [
       "1    10\n",
       "1    11\n",
       "1    12\n",
       "dtype: int64"
      ]
     },
     "execution_count": 9,
     "metadata": {},
     "output_type": "execute_result"
    }
   ],
   "execution_count": 9
  },
  {
   "metadata": {
    "ExecuteTime": {
     "end_time": "2025-04-27T00:56:52.643201Z",
     "start_time": "2025-04-27T00:56:52.636894Z"
    }
   },
   "cell_type": "code",
   "source": "s4.loc[1:2] #loc索引值唯一时可以切片",
   "id": "2693ddc856089e78",
   "outputs": [
    {
     "data": {
      "text/plain": [
       "1    10\n",
       "1    11\n",
       "1    12\n",
       "3    13\n",
       "2    14\n",
       "dtype: int64"
      ]
     },
     "execution_count": 10,
     "metadata": {},
     "output_type": "execute_result"
    }
   ],
   "execution_count": 10
  },
  {
   "metadata": {
    "ExecuteTime": {
     "end_time": "2025-04-27T00:59:12.323944Z",
     "start_time": "2025-04-27T00:59:12.315443Z"
    }
   },
   "cell_type": "code",
   "source": [
    "# DataFrame\n",
    "df4 = pd.DataFrame(np.random.randn(5, 5),\n",
    "                   index=np.random.randint(5, size=5),\n",
    "                   columns=np.random.randint(5, size=5))\n",
    "print(df4)\n",
    "#轴零是行索引排序\n",
    "df4_isort = df4.sort_index(axis=1, ascending=False)\n",
    "print(df4_isort)\n"
   ],
   "id": "5a746a2230236e2e",
   "outputs": [
    {
     "name": "stdout",
     "output_type": "stream",
     "text": [
      "          2         4         4         2         0\n",
      "2  3.108992 -0.181214 -0.908408 -0.800330  0.508796\n",
      "1 -1.100145 -0.154757  0.567607 -0.069871  0.794691\n",
      "2  0.182736  0.798992  0.165390 -1.991710 -0.168656\n",
      "2 -1.869802  0.459232 -0.103952  0.569686  0.687849\n",
      "3  1.047680  0.700847 -2.172016  0.115370  0.125460\n",
      "          4         4         2         2         0\n",
      "2 -0.181214 -0.908408  3.108992 -0.800330  0.508796\n",
      "1 -0.154757  0.567607 -1.100145 -0.069871  0.794691\n",
      "2  0.798992  0.165390  0.182736 -1.991710 -0.168656\n",
      "2  0.459232 -0.103952 -1.869802  0.569686  0.687849\n",
      "3  0.700847 -2.172016  1.047680  0.115370  0.125460\n"
     ]
    }
   ],
   "execution_count": 13
  },
  {
   "metadata": {},
   "cell_type": "markdown",
   "source": "# 6.5 按值排序（机器学习，深度学习不重要，数据分析才需要）",
   "id": "d434c3cd6cefbf23"
  },
  {
   "metadata": {
    "ExecuteTime": {
     "end_time": "2025-04-27T01:14:58.172590Z",
     "start_time": "2025-04-27T01:14:58.165573Z"
    }
   },
   "cell_type": "code",
   "source": [
    "l = np.random.randint(0, 100,size=24)\n",
    "print(l)\n",
    "df4 = pd.DataFrame(l.reshape((4, 6)))\n",
    "print('-' * 50)\n",
    "print(df4)\n",
    "print('-' * 50)\n",
    "df4_vsort = df4.sort_values(by=5,axis=0, ascending=False) #寻找的是columns里的3,重要\n",
    "print(df4_vsort)"
   ],
   "id": "c7acbb31edf25682",
   "outputs": [
    {
     "name": "stdout",
     "output_type": "stream",
     "text": [
      "[37 17 55 78 86 50 51 61 77 64 95 43 11 24 85 57 78 50 71 52 20 62 73 53]\n",
      "--------------------------------------------------\n",
      "    0   1   2   3   4   5\n",
      "0  37  17  55  78  86  50\n",
      "1  51  61  77  64  95  43\n",
      "2  11  24  85  57  78  50\n",
      "3  71  52  20  62  73  53\n",
      "--------------------------------------------------\n",
      "    0   1   2   3   4   5\n",
      "3  71  52  20  62  73  53\n",
      "0  37  17  55  78  86  50\n",
      "2  11  24  85  57  78  50\n",
      "1  51  61  77  64  95  43\n"
     ]
    }
   ],
   "execution_count": 22
  },
  {
   "metadata": {
    "ExecuteTime": {
     "end_time": "2025-04-27T01:15:17.549562Z",
     "start_time": "2025-04-27T01:15:17.540638Z"
    }
   },
   "cell_type": "code",
   "source": "df4.sort_values(5, ascending=False)",
   "id": "cbb1ec0c1c3a9513",
   "outputs": [
    {
     "data": {
      "text/plain": [
       "    0   1   2   3   4   5\n",
       "3  71  52  20  62  73  53\n",
       "0  37  17  55  78  86  50\n",
       "2  11  24  85  57  78  50\n",
       "1  51  61  77  64  95  43"
      ],
      "text/html": [
       "<div>\n",
       "<style scoped>\n",
       "    .dataframe tbody tr th:only-of-type {\n",
       "        vertical-align: middle;\n",
       "    }\n",
       "\n",
       "    .dataframe tbody tr th {\n",
       "        vertical-align: top;\n",
       "    }\n",
       "\n",
       "    .dataframe thead th {\n",
       "        text-align: right;\n",
       "    }\n",
       "</style>\n",
       "<table border=\"1\" class=\"dataframe\">\n",
       "  <thead>\n",
       "    <tr style=\"text-align: right;\">\n",
       "      <th></th>\n",
       "      <th>0</th>\n",
       "      <th>1</th>\n",
       "      <th>2</th>\n",
       "      <th>3</th>\n",
       "      <th>4</th>\n",
       "      <th>5</th>\n",
       "    </tr>\n",
       "  </thead>\n",
       "  <tbody>\n",
       "    <tr>\n",
       "      <th>3</th>\n",
       "      <td>71</td>\n",
       "      <td>52</td>\n",
       "      <td>20</td>\n",
       "      <td>62</td>\n",
       "      <td>73</td>\n",
       "      <td>53</td>\n",
       "    </tr>\n",
       "    <tr>\n",
       "      <th>0</th>\n",
       "      <td>37</td>\n",
       "      <td>17</td>\n",
       "      <td>55</td>\n",
       "      <td>78</td>\n",
       "      <td>86</td>\n",
       "      <td>50</td>\n",
       "    </tr>\n",
       "    <tr>\n",
       "      <th>2</th>\n",
       "      <td>11</td>\n",
       "      <td>24</td>\n",
       "      <td>85</td>\n",
       "      <td>57</td>\n",
       "      <td>78</td>\n",
       "      <td>50</td>\n",
       "    </tr>\n",
       "    <tr>\n",
       "      <th>1</th>\n",
       "      <td>51</td>\n",
       "      <td>61</td>\n",
       "      <td>77</td>\n",
       "      <td>64</td>\n",
       "      <td>95</td>\n",
       "      <td>43</td>\n",
       "    </tr>\n",
       "  </tbody>\n",
       "</table>\n",
       "</div>"
      ]
     },
     "execution_count": 23,
     "metadata": {},
     "output_type": "execute_result"
    }
   ],
   "execution_count": 23
  },
  {
   "metadata": {
    "ExecuteTime": {
     "end_time": "2025-04-27T01:24:41.854099Z",
     "start_time": "2025-04-27T01:24:41.847913Z"
    }
   },
   "cell_type": "code",
   "source": [
    "df_data = pd.DataFrame([np.random.randn(3), [1., 2., np.nan],\n",
    "                       [np.nan, 4., np.nan], [1., 2., 3.]])\n",
    "print(df_data.head())"
   ],
   "id": "5f6fbe18cbd5ae53",
   "outputs": [
    {
     "name": "stdout",
     "output_type": "stream",
     "text": [
      "          0         1         2\n",
      "0 -1.258593 -1.220174  0.997644\n",
      "1  1.000000  2.000000       NaN\n",
      "2       NaN  4.000000       NaN\n",
      "3  1.000000  2.000000  3.000000\n"
     ]
    }
   ],
   "execution_count": 24
  },
  {
   "metadata": {
    "ExecuteTime": {
     "end_time": "2025-04-27T01:26:38.456828Z",
     "start_time": "2025-04-27T01:26:38.451679Z"
    }
   },
   "cell_type": "code",
   "source": "print(df_data.isnull())",
   "id": "4316a0ba85554882",
   "outputs": [
    {
     "name": "stdout",
     "output_type": "stream",
     "text": [
      "       0      1      2\n",
      "0  False  False  False\n",
      "1  False  False   True\n",
      "2   True  False   True\n",
      "3  False  False  False\n"
     ]
    }
   ],
   "execution_count": 29
  },
  {
   "metadata": {
    "ExecuteTime": {
     "end_time": "2025-04-27T01:26:59.831832Z",
     "start_time": "2025-04-27T01:26:59.826868Z"
    }
   },
   "cell_type": "code",
   "source": "print(df_data.isnull().sum())",
   "id": "c5ac7fd3a43e2c73",
   "outputs": [
    {
     "name": "stdout",
     "output_type": "stream",
     "text": [
      "0    1\n",
      "1    0\n",
      "2    2\n",
      "dtype: int64\n"
     ]
    }
   ],
   "execution_count": 30
  },
  {
   "metadata": {},
   "cell_type": "markdown",
   "source": "# 删除数据",
   "id": "33ae54204506bc8c"
  },
  {
   "metadata": {
    "ExecuteTime": {
     "end_time": "2025-04-27T01:36:07.234156Z",
     "start_time": "2025-04-27T01:36:07.225841Z"
    }
   },
   "cell_type": "code",
   "source": [
    "#默认一个样本，任何一个特征缺失，就删除\n",
    "#inplace True是修改的是原有的df\n",
    "#subset=[0]是指按第一列来删除,第一列有空值就删除对应的行\n",
    "print(df_data)\n",
    "print('-'*50)\n",
    "# print(df_data.dropna(subset=[0]))\n",
    "# axis = 0时subset指定的是列，axis = 1时指定的是行\n",
    "print(df_data.dropna(axis=0, subset=[0]))"
   ],
   "id": "5195d7228de6310",
   "outputs": [
    {
     "name": "stdout",
     "output_type": "stream",
     "text": [
      "          0         1         2\n",
      "0 -1.258593 -1.220174  0.997644\n",
      "1  1.000000  2.000000       NaN\n",
      "2       NaN  4.000000       NaN\n",
      "3  1.000000  2.000000  3.000000\n",
      "--------------------------------------------------\n",
      "          0         1         2\n",
      "0 -1.258593 -1.220174  0.997644\n",
      "1  1.000000  2.000000       NaN\n",
      "3  1.000000  2.000000  3.000000\n"
     ]
    }
   ],
   "execution_count": 44
  },
  {
   "metadata": {},
   "cell_type": "markdown",
   "source": "# 填充数据",
   "id": "5ccf5dfa7f6cf007"
  },
  {
   "metadata": {
    "ExecuteTime": {
     "end_time": "2025-04-27T01:39:45.990728Z",
     "start_time": "2025-04-27T01:39:45.983210Z"
    }
   },
   "cell_type": "code",
   "source": [
    "#给零列的空值填为-100，按特征（按列）去填充\n",
    "print(df_data.iloc[:,0].fillna(-100.))\n",
    "df_data"
   ],
   "id": "c8894f0488c58f03",
   "outputs": [
    {
     "name": "stdout",
     "output_type": "stream",
     "text": [
      "0     -1.258593\n",
      "1      1.000000\n",
      "2   -100.000000\n",
      "3      1.000000\n",
      "Name: 0, dtype: float64\n"
     ]
    },
    {
     "data": {
      "text/plain": [
       "          0         1         2\n",
       "0 -1.258593 -1.220174  0.997644\n",
       "1  1.000000  2.000000       NaN\n",
       "2       NaN  4.000000       NaN\n",
       "3  1.000000  2.000000  3.000000"
      ],
      "text/html": [
       "<div>\n",
       "<style scoped>\n",
       "    .dataframe tbody tr th:only-of-type {\n",
       "        vertical-align: middle;\n",
       "    }\n",
       "\n",
       "    .dataframe tbody tr th {\n",
       "        vertical-align: top;\n",
       "    }\n",
       "\n",
       "    .dataframe thead th {\n",
       "        text-align: right;\n",
       "    }\n",
       "</style>\n",
       "<table border=\"1\" class=\"dataframe\">\n",
       "  <thead>\n",
       "    <tr style=\"text-align: right;\">\n",
       "      <th></th>\n",
       "      <th>0</th>\n",
       "      <th>1</th>\n",
       "      <th>2</th>\n",
       "    </tr>\n",
       "  </thead>\n",
       "  <tbody>\n",
       "    <tr>\n",
       "      <th>0</th>\n",
       "      <td>-1.258593</td>\n",
       "      <td>-1.220174</td>\n",
       "      <td>0.997644</td>\n",
       "    </tr>\n",
       "    <tr>\n",
       "      <th>1</th>\n",
       "      <td>1.000000</td>\n",
       "      <td>2.000000</td>\n",
       "      <td>NaN</td>\n",
       "    </tr>\n",
       "    <tr>\n",
       "      <th>2</th>\n",
       "      <td>NaN</td>\n",
       "      <td>4.000000</td>\n",
       "      <td>NaN</td>\n",
       "    </tr>\n",
       "    <tr>\n",
       "      <th>3</th>\n",
       "      <td>1.000000</td>\n",
       "      <td>2.000000</td>\n",
       "      <td>3.000000</td>\n",
       "    </tr>\n",
       "  </tbody>\n",
       "</table>\n",
       "</div>"
      ]
     },
     "execution_count": 47,
     "metadata": {},
     "output_type": "execute_result"
    }
   ],
   "execution_count": 47
  },
  {
   "metadata": {
    "ExecuteTime": {
     "end_time": "2025-04-27T01:43:24.817778Z",
     "start_time": "2025-04-27T01:43:24.811428Z"
    }
   },
   "cell_type": "code",
   "source": [
    "df_data.iloc[:,2]=df_data.iloc[:,2].fillna(df_data.iloc[:,2].mean())#用均值填充空值\n",
    "print(df_data)\n",
    "# df_data.iloc[:,2] = df_data.iloc[:,2].fillna(df_data.iloc[:,2].mean())"
   ],
   "id": "fb0f0c6db08dd5d6",
   "outputs": [
    {
     "name": "stdout",
     "output_type": "stream",
     "text": [
      "          0         1         2\n",
      "0 -1.258593 -1.220174  0.997644\n",
      "1  1.000000  2.000000  1.998822\n",
      "2       NaN  4.000000  1.998822\n",
      "3  1.000000  2.000000  3.000000\n"
     ]
    }
   ],
   "execution_count": 53
  }
 ],
 "metadata": {
  "kernelspec": {
   "display_name": "Python 3",
   "language": "python",
   "name": "python3"
  },
  "language_info": {
   "codemirror_mode": {
    "name": "ipython",
    "version": 2
   },
   "file_extension": ".py",
   "mimetype": "text/x-python",
   "name": "python",
   "nbconvert_exporter": "python",
   "pygments_lexer": "ipython2",
   "version": "2.7.6"
  }
 },
 "nbformat": 4,
 "nbformat_minor": 5
}
