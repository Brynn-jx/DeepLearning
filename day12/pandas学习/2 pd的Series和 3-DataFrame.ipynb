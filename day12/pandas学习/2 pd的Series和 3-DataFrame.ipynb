{
 "cells": [
  {
   "cell_type": "code",
   "id": "initial_id",
   "metadata": {
    "collapsed": true,
    "ExecuteTime": {
     "end_time": "2025-04-26T07:52:08.171146Z",
     "start_time": "2025-04-26T07:52:07.568614Z"
    }
   },
   "source": "import pandas as pd",
   "outputs": [],
   "execution_count": 1
  },
  {
   "metadata": {
    "ExecuteTime": {
     "end_time": "2025-04-26T07:56:10.677249Z",
     "start_time": "2025-04-26T07:56:10.672727Z"
    }
   },
   "cell_type": "code",
   "source": [
    "ser_obj = pd.Series(range(10, 20))\n",
    "print(ser_obj)"
   ],
   "id": "15a080874437c32c",
   "outputs": [
    {
     "name": "stdout",
     "output_type": "stream",
     "text": [
      "0    10\n",
      "1    11\n",
      "2    12\n",
      "3    13\n",
      "4    14\n",
      "5    15\n",
      "6    16\n",
      "7    17\n",
      "8    18\n",
      "9    19\n",
      "dtype: int64\n"
     ]
    }
   ],
   "execution_count": 3
  },
  {
   "metadata": {
    "ExecuteTime": {
     "end_time": "2025-04-26T07:58:39.258466Z",
     "start_time": "2025-04-26T07:58:39.252484Z"
    }
   },
   "cell_type": "code",
   "source": [
    "print(ser_obj.values)\n",
    "print(type(ser_obj.values))\n",
    "print(type(ser_obj.index))\n",
    "print(ser_obj.index)"
   ],
   "id": "ade63d1764aa3418",
   "outputs": [
    {
     "name": "stdout",
     "output_type": "stream",
     "text": [
      "[10 11 12 13 14 15 16 17 18 19]\n",
      "<class 'numpy.ndarray'>\n",
      "<class 'pandas.core.indexes.range.RangeIndex'>\n",
      "RangeIndex(start=0, stop=10, step=1)\n"
     ]
    }
   ],
   "execution_count": 11
  },
  {
   "metadata": {
    "ExecuteTime": {
     "end_time": "2025-04-26T08:00:26.780415Z",
     "start_time": "2025-04-26T08:00:26.775406Z"
    }
   },
   "cell_type": "code",
   "source": [
    "print(ser_obj[0])\n",
    "print(ser_obj.iloc[0])\n",
    "print(ser_obj.loc[0])"
   ],
   "id": "70655715c41f9c1e",
   "outputs": [
    {
     "name": "stdout",
     "output_type": "stream",
     "text": [
      "10\n",
      "10\n",
      "10\n"
     ]
    }
   ],
   "execution_count": 18
  },
  {
   "metadata": {
    "ExecuteTime": {
     "end_time": "2025-04-26T08:01:41.184741Z",
     "start_time": "2025-04-26T08:01:41.179758Z"
    }
   },
   "cell_type": "code",
   "source": [
    "print(ser_obj * 2)  #元素级乘法\n",
    "print(ser_obj > 15)  #返回一个bool序列"
   ],
   "id": "b8e1d5e9051d3a44",
   "outputs": [
    {
     "name": "stdout",
     "output_type": "stream",
     "text": [
      "0    20\n",
      "1    22\n",
      "2    24\n",
      "3    26\n",
      "4    28\n",
      "5    30\n",
      "6    32\n",
      "7    34\n",
      "8    36\n",
      "9    38\n",
      "dtype: int64\n",
      "0    False\n",
      "1    False\n",
      "2    False\n",
      "3    False\n",
      "4    False\n",
      "5    False\n",
      "6     True\n",
      "7     True\n",
      "8     True\n",
      "9     True\n",
      "dtype: bool\n"
     ]
    }
   ],
   "execution_count": 20
  },
  {
   "metadata": {
    "ExecuteTime": {
     "end_time": "2025-04-26T08:06:55.610948Z",
     "start_time": "2025-04-26T08:06:55.604690Z"
    }
   },
   "cell_type": "code",
   "source": [
    "year_data = {2001: 17.8, 2005: 20.1, 2003: 16.5}\n",
    "ser_obj2 = pd.Series(year_data)\n",
    "print(ser_obj2)\n",
    "print('-' * 50)\n",
    "print(ser_obj2.index)\n",
    "print(ser_obj2.values)\n",
    "print(ser_obj2.head())  # 显示前五行"
   ],
   "id": "c55c51b4f7ab4013",
   "outputs": [
    {
     "name": "stdout",
     "output_type": "stream",
     "text": [
      "2001    17.8\n",
      "2005    20.1\n",
      "2003    16.5\n",
      "dtype: float64\n",
      "--------------------------------------------------\n",
      "Index([2001, 2005, 2003], dtype='int64')\n",
      "[17.8 20.1 16.5]\n",
      "2001    17.8\n",
      "2005    20.1\n",
      "2003    16.5\n",
      "dtype: float64\n"
     ]
    }
   ],
   "execution_count": 29
  },
  {
   "metadata": {},
   "cell_type": "markdown",
   "source": "# DataFrame",
   "id": "58028a228d87e3b6"
  },
  {
   "metadata": {
    "ExecuteTime": {
     "end_time": "2025-04-26T08:12:53.137739Z",
     "start_time": "2025-04-26T08:12:53.130740Z"
    }
   },
   "cell_type": "code",
   "source": [
    "import numpy as np\n",
    "\n",
    "t = pd.DataFrame(np.random.randn(20, 3), columns=['a', 'b', 'c'])\n",
    "print(t)"
   ],
   "id": "d7b9499a67ec239",
   "outputs": [
    {
     "name": "stdout",
     "output_type": "stream",
     "text": [
      "           a         b         c\n",
      "0  -1.231822  1.618921 -0.520227\n",
      "1  -1.392361  0.568575  0.200198\n",
      "2  -0.389304 -0.169189  0.596971\n",
      "3   0.943042  0.768533 -0.705210\n",
      "4   0.239174 -0.365110  0.286892\n",
      "5  -0.130643 -0.906298  0.589689\n",
      "6  -1.523058 -2.312680  0.367620\n",
      "7  -0.957385 -0.228510  1.522920\n",
      "8  -1.417578 -0.594321  0.333836\n",
      "9  -1.476969 -0.674425  0.412664\n",
      "10  1.247916 -0.236105 -2.086236\n",
      "11 -0.320648 -0.533358  0.291071\n",
      "12  0.789820  1.137897 -0.390825\n",
      "13 -0.610568  1.036629 -0.199903\n",
      "14  1.182718  0.653002 -1.809385\n",
      "15 -0.666130 -0.295504  0.023167\n",
      "16 -0.677161 -0.773385 -0.846223\n",
      "17 -0.897609 -0.917817  1.371723\n",
      "18  1.612900 -2.114772  0.273415\n",
      "19  0.012060  0.615964  0.515224\n"
     ]
    }
   ],
   "execution_count": 34
  },
  {
   "metadata": {
    "ExecuteTime": {
     "end_time": "2025-04-26T08:17:15.724270Z",
     "start_time": "2025-04-26T08:17:15.719028Z"
    }
   },
   "cell_type": "code",
   "source": [
    "t1 = pd.DataFrame(np.arange(12).reshape(3, 4), index=['a', 'b', 'c'], )\n",
    "print(t1)\n",
    "print(t1.columns)\n",
    "print(t1.index)"
   ],
   "id": "da9bb747c24900d6",
   "outputs": [
    {
     "name": "stdout",
     "output_type": "stream",
     "text": [
      "   0  1   2   3\n",
      "a  0  1   2   3\n",
      "b  4  5   6   7\n",
      "c  8  9  10  11\n",
      "RangeIndex(start=0, stop=4, step=1)\n",
      "Index(['a', 'b', 'c'], dtype='object')\n"
     ]
    }
   ],
   "execution_count": 40
  },
  {
   "metadata": {
    "ExecuteTime": {
     "end_time": "2025-04-26T08:22:31.040033Z",
     "start_time": "2025-04-26T08:22:31.035657Z"
    }
   },
   "cell_type": "code",
   "source": [
    "print(t1.loc['a'])\n",
    "print(type(t1.loc['a']))"
   ],
   "id": "569083f31a618acb",
   "outputs": [
    {
     "name": "stdout",
     "output_type": "stream",
     "text": [
      "0    0\n",
      "1    1\n",
      "2    2\n",
      "3    3\n",
      "Name: a, dtype: int64\n",
      "<class 'pandas.core.series.Series'>\n"
     ]
    }
   ],
   "execution_count": 48
  },
  {
   "metadata": {
    "ExecuteTime": {
     "end_time": "2025-04-26T13:38:23.513082Z",
     "start_time": "2025-04-26T13:38:23.470038Z"
    }
   },
   "cell_type": "code",
   "source": [
    "# 列表套字典  变df\n",
    "d2 = [{\"name\": \"xiaohong\", \"age\": 32, \"tel\": 10010},\n",
    "      {\"name\": \"xiaogang\", \"tel\": 10000},\n",
    "      {\"name\": \"xiaowang\", \"age\": 22}]\n",
    "df6 = pd.DataFrame(d2, index=['a', 'b', 'c'])\n",
    "print(df6)\n",
    "print(df6.columns)\n",
    "print('-' * 50)\n",
    "print(df6.loc['a'])\n",
    "print('-' * 50)\n",
    "print(df6.iloc[0])"
   ],
   "id": "8682807ebe9cc571",
   "outputs": [
    {
     "name": "stdout",
     "output_type": "stream",
     "text": [
      "       name   age      tel\n",
      "a  xiaohong  32.0  10010.0\n",
      "b  xiaogang   NaN  10000.0\n",
      "c  xiaowang  22.0      NaN\n",
      "Index(['name', 'age', 'tel'], dtype='object')\n",
      "--------------------------------------------------\n",
      "name    xiaohong\n",
      "age         32.0\n",
      "tel      10010.0\n",
      "Name: a, dtype: object\n",
      "--------------------------------------------------\n",
      "name    xiaohong\n",
      "age         32.0\n",
      "tel      10010.0\n",
      "Name: a, dtype: object\n"
     ]
    }
   ],
   "execution_count": 64
  },
  {
   "metadata": {
    "ExecuteTime": {
     "end_time": "2025-04-26T13:38:51.270249Z",
     "start_time": "2025-04-26T13:38:51.263728Z"
    }
   },
   "cell_type": "code",
   "source": "pd.Series(1, index=list(range(3, 7)), dtype='float32')",
   "id": "294250d787f13723",
   "outputs": [
    {
     "data": {
      "text/plain": [
       "3    1.0\n",
       "4    1.0\n",
       "5    1.0\n",
       "6    1.0\n",
       "dtype: float32"
      ]
     },
     "execution_count": 66,
     "metadata": {},
     "output_type": "execute_result"
    }
   ],
   "execution_count": 66
  },
  {
   "metadata": {
    "ExecuteTime": {
     "end_time": "2025-04-26T14:05:00.852079Z",
     "start_time": "2025-04-26T14:05:00.844626Z"
    }
   },
   "cell_type": "code",
   "source": [
    "dict_data = {'A': 1,\n",
    "             'B': pd.Timestamp('20190926'),\n",
    "             'C': pd.Series(1, index=range(4), dtype='float32'),\n",
    "             'D': np.array([1, 2, 3, 4], dtype='int32'),\n",
    "             'E': [\"Python\", \"Java\", \"C++\", \"C\"],\n",
    "             'F': 'wangdao'}\n",
    "df7 = pd.DataFrame(dict_data)\n",
    "print(df7)\n",
    "print('-' * 100)\n",
    "print(df7.loc[:, 'C'])"
   ],
   "id": "6982b562eb4c73d2",
   "outputs": [
    {
     "name": "stdout",
     "output_type": "stream",
     "text": [
      "   A          B    C  D       E        F\n",
      "0  1 2019-09-26  1.0  1  Python  wangdao\n",
      "1  1 2019-09-26  1.0  2    Java  wangdao\n",
      "2  1 2019-09-26  1.0  3     C++  wangdao\n",
      "3  1 2019-09-26  1.0  4       C  wangdao\n",
      "----------------------------------------------------------------------------------------------------\n",
      "0    1.0\n",
      "1    1.0\n",
      "2    1.0\n",
      "3    1.0\n",
      "Name: C, dtype: float32\n"
     ]
    }
   ],
   "execution_count": 92
  },
  {
   "metadata": {
    "ExecuteTime": {
     "end_time": "2025-04-26T14:19:46.530375Z",
     "start_time": "2025-04-26T14:19:46.522141Z"
    }
   },
   "cell_type": "code",
   "source": [
    "df7['G'] = df7['C'] + 1\n",
    "print(df7.head())"
   ],
   "id": "d5ef5743fd26aaea",
   "outputs": [
    {
     "name": "stdout",
     "output_type": "stream",
     "text": [
      "   A          B    C  D       E        F    G\n",
      "0  1 2019-09-26  1.0  1  Python  wangdao  2.0\n",
      "1  1 2019-09-26  1.0  2    Java  wangdao  2.0\n",
      "2  1 2019-09-26  1.0  3     C++  wangdao  2.0\n",
      "3  1 2019-09-26  1.0  4       C  wangdao  2.0\n"
     ]
    }
   ],
   "execution_count": 112
  },
  {
   "metadata": {
    "ExecuteTime": {
     "end_time": "2025-04-26T14:08:03.568633Z",
     "start_time": "2025-04-26T14:08:03.560653Z"
    }
   },
   "cell_type": "code",
   "source": [
    "print(df7.columns)\n",
    "print(df7.index)\n",
    "pd.Series(1, index=['A', 'C', 'D', 'E', 'F'], dtype='float32')"
   ],
   "id": "659ef7f5571ef467",
   "outputs": [
    {
     "name": "stdout",
     "output_type": "stream",
     "text": [
      "Index(['A', 'B', 'C', 'D', 'E', 'F'], dtype='object')\n",
      "RangeIndex(start=0, stop=4, step=1)\n"
     ]
    },
    {
     "data": {
      "text/plain": [
       "A    1.0\n",
       "C    1.0\n",
       "D    1.0\n",
       "E    1.0\n",
       "F    1.0\n",
       "dtype: float32"
      ]
     },
     "execution_count": 96,
     "metadata": {},
     "output_type": "execute_result"
    }
   ],
   "execution_count": 96
  },
  {
   "metadata": {
    "ExecuteTime": {
     "end_time": "2025-04-26T14:16:03.977884Z",
     "start_time": "2025-04-26T14:16:03.970928Z"
    }
   },
   "cell_type": "code",
   "source": [
    "dates = pd.date_range('20250426', periods=6)\n",
    "print(dates)\n",
    "print('-' * 100)\n",
    "df8 = pd.DataFrame(np.random.randn(6, 4), index=dates, columns=list('ABCD'))\n",
    "print(df8)"
   ],
   "id": "79abc01a137826f0",
   "outputs": [
    {
     "name": "stdout",
     "output_type": "stream",
     "text": [
      "DatetimeIndex(['2025-04-26', '2025-04-27', '2025-04-28', '2025-04-29',\n",
      "               '2025-04-30', '2025-05-01'],\n",
      "              dtype='datetime64[ns]', freq='D')\n",
      "----------------------------------------------------------------------------------------------------\n",
      "                   A         B         C         D\n",
      "2025-04-26  0.597028  0.143340 -0.123086 -0.428798\n",
      "2025-04-27 -1.118758 -1.047642  1.069336 -1.239170\n",
      "2025-04-28  1.469512  0.095977  0.592170 -1.071760\n",
      "2025-04-29  1.515377  0.941275 -1.028131  0.170873\n",
      "2025-04-30 -0.081538  0.819094 -1.628825 -0.440576\n",
      "2025-05-01  0.652681  0.097836 -1.282003 -0.112802\n"
     ]
    }
   ],
   "execution_count": 109
  },
  {
   "metadata": {
    "ExecuteTime": {
     "end_time": "2025-04-26T14:21:33.720901Z",
     "start_time": "2025-04-26T14:21:33.714893Z"
    }
   },
   "cell_type": "code",
   "source": [
    "# del df7['G']\n",
    "print(df7.head())"
   ],
   "id": "d92cf6b5a4d91474",
   "outputs": [
    {
     "name": "stdout",
     "output_type": "stream",
     "text": [
      "   A          B    C  D       E        F\n",
      "0  1 2019-09-26  1.0  1  Python  wangdao\n",
      "1  1 2019-09-26  1.0  2    Java  wangdao\n",
      "2  1 2019-09-26  1.0  3     C++  wangdao\n",
      "3  1 2019-09-26  1.0  4       C  wangdao\n"
     ]
    }
   ],
   "execution_count": 116
  }
 ],
 "metadata": {
  "kernelspec": {
   "display_name": "Python 3",
   "language": "python",
   "name": "python3"
  },
  "language_info": {
   "codemirror_mode": {
    "name": "ipython",
    "version": 2
   },
   "file_extension": ".py",
   "mimetype": "text/x-python",
   "name": "python",
   "nbconvert_exporter": "python",
   "pygments_lexer": "ipython2",
   "version": "2.7.6"
  }
 },
 "nbformat": 4,
 "nbformat_minor": 5
}
