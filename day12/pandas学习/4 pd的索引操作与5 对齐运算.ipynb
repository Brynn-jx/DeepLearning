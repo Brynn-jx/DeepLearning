{
 "cells": [
  {
   "metadata": {},
   "cell_type": "markdown",
   "source": "# pandas索引操作",
   "id": "b7e5dd6859ac7cf2"
  },
  {
   "metadata": {
    "ExecuteTime": {
     "end_time": "2025-04-26T14:23:04.144509Z",
     "start_time": "2025-04-26T14:23:03.258022Z"
    }
   },
   "cell_type": "code",
   "source": [
    "import pandas as pd\n",
    "import numpy as np"
   ],
   "id": "b03744fe104c825d",
   "outputs": [],
   "execution_count": 1
  },
  {
   "metadata": {
    "ExecuteTime": {
     "end_time": "2025-04-26T14:25:11.592834Z",
     "start_time": "2025-04-26T14:25:11.586476Z"
    }
   },
   "cell_type": "code",
   "source": [
    "dict_data = {'A': 1,\n",
    "             'B': pd.Timestamp('20190926'),\n",
    "             'C': pd.Series(1, index=list(range(4)), dtype='float32'),\n",
    "             'D': np.array([1, 2, 3, 4], dtype='int32'),\n",
    "             'E': [\"Python\", \"Java\", \"C++\", \"C\"],\n",
    "             'F': 'wangdao'}\n",
    "df_obj2 = pd.DataFrame(dict_data)\n",
    "print(df_obj2.index)"
   ],
   "id": "6f0dc582da6fe2b2",
   "outputs": [
    {
     "name": "stdout",
     "output_type": "stream",
     "text": [
      "Index([0, 1, 2, 3], dtype='int64')\n"
     ]
    }
   ],
   "execution_count": 2
  },
  {
   "metadata": {
    "ExecuteTime": {
     "end_time": "2025-04-26T15:01:53.054375Z",
     "start_time": "2025-04-26T15:01:53.015105Z"
    }
   },
   "cell_type": "code",
   "source": [
    "print(df_obj2)\n",
    "print('-' * 50)\n",
    "df_obj2.iloc[2]"
   ],
   "id": "fc126ff7166ef660",
   "outputs": [
    {
     "name": "stdout",
     "output_type": "stream",
     "text": [
      "   A          B    C  D       E        F\n",
      "0  1 2019-09-26  1.0  1  Python  wangdao\n",
      "1  1 2019-09-26  1.0  2    Java  wangdao\n",
      "2  1 2019-09-26  1.0  3     C++  wangdao\n",
      "3  1 2019-09-26  1.0  4       C  wangdao\n",
      "--------------------------------------------------\n"
     ]
    },
    {
     "data": {
      "text/plain": [
       "A                      1\n",
       "B    2019-09-26 00:00:00\n",
       "C                    1.0\n",
       "D                      3\n",
       "E                    C++\n",
       "F                wangdao\n",
       "Name: 2, dtype: object"
      ]
     },
     "execution_count": 10,
     "metadata": {},
     "output_type": "execute_result"
    }
   ],
   "execution_count": 10
  },
  {
   "metadata": {
    "ExecuteTime": {
     "end_time": "2025-04-26T15:02:44.351341Z",
     "start_time": "2025-04-26T15:02:44.344893Z"
    }
   },
   "cell_type": "code",
   "source": [
    "ser_obj = pd.Series(range(5), index=list(\"abcde\"))\n",
    "print(ser_obj)\n",
    "ser_obj.index"
   ],
   "id": "72b3fa8f8bf59e43",
   "outputs": [
    {
     "name": "stdout",
     "output_type": "stream",
     "text": [
      "a    0\n",
      "b    1\n",
      "c    2\n",
      "d    3\n",
      "e    4\n",
      "dtype: int64\n"
     ]
    },
    {
     "data": {
      "text/plain": [
       "Index(['a', 'b', 'c', 'd', 'e'], dtype='object')"
      ]
     },
     "execution_count": 12,
     "metadata": {},
     "output_type": "execute_result"
    }
   ],
   "execution_count": 12
  },
  {
   "metadata": {
    "ExecuteTime": {
     "end_time": "2025-04-26T15:03:47.973240Z",
     "start_time": "2025-04-26T15:03:47.968232Z"
    }
   },
   "cell_type": "code",
   "source": [
    "# 切片索引\n",
    "print(ser_obj.iloc[1:3])  #索引位置取数据，左闭右开\n",
    "print(ser_obj.loc['b':'d'])  #记住索引名  左闭右闭"
   ],
   "id": "c165f5b714a0f90f",
   "outputs": [
    {
     "name": "stdout",
     "output_type": "stream",
     "text": [
      "b    1\n",
      "c    2\n",
      "dtype: int64\n",
      "b    1\n",
      "c    2\n",
      "d    3\n",
      "dtype: int64\n"
     ]
    }
   ],
   "execution_count": 14
  },
  {
   "metadata": {
    "ExecuteTime": {
     "end_time": "2025-04-26T15:04:27.837805Z",
     "start_time": "2025-04-26T15:04:27.831993Z"
    }
   },
   "cell_type": "code",
   "source": "print(ser_obj.iloc[[1, 3]])",
   "id": "82d3565926ab1e53",
   "outputs": [
    {
     "name": "stdout",
     "output_type": "stream",
     "text": [
      "b    1\n",
      "d    3\n",
      "dtype: int64\n"
     ]
    }
   ],
   "execution_count": 16
  },
  {
   "metadata": {
    "ExecuteTime": {
     "end_time": "2025-04-26T15:04:58.656868Z",
     "start_time": "2025-04-26T15:04:58.651810Z"
    }
   },
   "cell_type": "code",
   "source": [
    "ser_bool = ser_obj > 2\n",
    "print(ser_obj)\n",
    "print(ser_bool)\n"
   ],
   "id": "6860330a0b69672b",
   "outputs": [
    {
     "name": "stdout",
     "output_type": "stream",
     "text": [
      "a    0\n",
      "b    1\n",
      "c    2\n",
      "d    3\n",
      "e    4\n",
      "dtype: int64\n",
      "a    False\n",
      "b    False\n",
      "c    False\n",
      "d     True\n",
      "e     True\n",
      "dtype: bool\n"
     ]
    }
   ],
   "execution_count": 17
  },
  {
   "metadata": {
    "ExecuteTime": {
     "end_time": "2025-04-26T15:05:44.493759Z",
     "start_time": "2025-04-26T15:05:44.488771Z"
    }
   },
   "cell_type": "code",
   "source": "print(ser_obj[ser_bool])",
   "id": "a462bbf568ff798e",
   "outputs": [
    {
     "name": "stdout",
     "output_type": "stream",
     "text": [
      "d    3\n",
      "e    4\n",
      "dtype: int64\n"
     ]
    }
   ],
   "execution_count": 18
  },
  {
   "metadata": {
    "ExecuteTime": {
     "end_time": "2025-04-26T15:07:04.141305Z",
     "start_time": "2025-04-26T15:07:04.135931Z"
    }
   },
   "cell_type": "code",
   "source": [
    "df_obj = pd.DataFrame(np.random.randn(5, 4), columns=['A', 'B', 'C', 'D'])\n",
    "print(df_obj)"
   ],
   "id": "b7bd809f3ee19a4a",
   "outputs": [
    {
     "name": "stdout",
     "output_type": "stream",
     "text": [
      "          A         B         C         D\n",
      "0  1.135076  0.891088 -0.150878  0.830937\n",
      "1 -1.209320 -0.924141 -0.791280  0.101579\n",
      "2  2.120594 -1.094498  1.636591 -0.589254\n",
      "3 -1.817295 -2.068245 -1.037455 -0.541862\n",
      "4  0.970406 -0.079924 -0.557270 -0.411909\n"
     ]
    }
   ],
   "execution_count": 21
  },
  {
   "metadata": {
    "ExecuteTime": {
     "end_time": "2025-04-26T15:08:52.074183Z",
     "start_time": "2025-04-26T15:08:52.067332Z"
    }
   },
   "cell_type": "code",
   "source": [
    "print(type(df_obj['A']))\n",
    "print('-' * 50)\n",
    "print(type(df_obj[['A']]))"
   ],
   "id": "3d6ca6cfa663582e",
   "outputs": [
    {
     "name": "stdout",
     "output_type": "stream",
     "text": [
      "<class 'pandas.core.series.Series'>\n",
      "--------------------------------------------------\n",
      "<class 'pandas.core.frame.DataFrame'>\n"
     ]
    }
   ],
   "execution_count": 24
  },
  {
   "metadata": {
    "ExecuteTime": {
     "end_time": "2025-04-26T15:10:17.514188Z",
     "start_time": "2025-04-26T15:10:17.507191Z"
    }
   },
   "cell_type": "code",
   "source": [
    "print(df_obj['A']) # 返回的是series对象，修改数据会影响到原来的DataFrame对象，只能选择一列，效率较高\n",
    "print('-' * 50)\n",
    "print(df_obj[['A']])# 返回的是DataFrame对象，修改数据不会影响到原来的DataFrame对象，会创建副本，能选择多列，效率较低"
   ],
   "id": "9a9664ba965b3bb5",
   "outputs": [
    {
     "name": "stdout",
     "output_type": "stream",
     "text": [
      "0    1.135076\n",
      "1   -1.209320\n",
      "2    2.120594\n",
      "3   -1.817295\n",
      "4    0.970406\n",
      "Name: A, dtype: float64\n",
      "--------------------------------------------------\n",
      "          A\n",
      "0  1.135076\n",
      "1 -1.209320\n",
      "2  2.120594\n",
      "3 -1.817295\n",
      "4  0.970406\n"
     ]
    }
   ],
   "execution_count": 25
  },
  {
   "metadata": {
    "ExecuteTime": {
     "end_time": "2025-04-26T15:15:56.399562Z",
     "start_time": "2025-04-26T15:15:56.386561Z"
    }
   },
   "cell_type": "code",
   "source": [
    "# DataFrame\n",
    "df_obj = pd.DataFrame(np.random.randn(5,4),\n",
    "                      columns = list('abcd'),\n",
    "                      index=list('abcde'))\n",
    "print(df_obj)"
   ],
   "id": "2805959be6ca9270",
   "outputs": [
    {
     "name": "stdout",
     "output_type": "stream",
     "text": [
      "          a         b         c         d\n",
      "a -0.319810  0.149251  0.823969 -0.887915\n",
      "b -0.252556  0.334385 -0.219054  0.300187\n",
      "c -1.308214  1.668785  0.429143  1.150986\n",
      "d -0.432707 -0.233091  1.015494 -1.259830\n",
      "e -0.907905 -1.114496 -1.041216 -0.286300\n"
     ]
    }
   ],
   "execution_count": 26
  },
  {
   "metadata": {
    "ExecuteTime": {
     "end_time": "2025-04-26T15:17:29.285445Z",
     "start_time": "2025-04-26T15:17:29.275922Z"
    }
   },
   "cell_type": "code",
   "source": [
    "print(df_obj.loc['b':'d'])\n",
    "print('-'*50)\n",
    "print(df_obj.loc[['b','d'], ['a','c']])"
   ],
   "id": "7f938948bbd94517",
   "outputs": [
    {
     "name": "stdout",
     "output_type": "stream",
     "text": [
      "          a         b         c         d\n",
      "b -0.252556  0.334385 -0.219054  0.300187\n",
      "c -1.308214  1.668785  0.429143  1.150986\n",
      "d -0.432707 -0.233091  1.015494 -1.259830\n",
      "--------------------------------------------------\n",
      "          a         c\n",
      "b -0.252556 -0.219054\n",
      "d -0.432707  1.015494\n"
     ]
    }
   ],
   "execution_count": 29
  },
  {
   "metadata": {
    "ExecuteTime": {
     "end_time": "2025-04-26T15:20:21.598543Z",
     "start_time": "2025-04-26T15:20:21.587021Z"
    }
   },
   "cell_type": "code",
   "source": [
    "s1 = pd.Series(range(10, 25))\n",
    "s2 = pd.Series(range(5, 10))\n",
    "print(s1 + s2)"
   ],
   "id": "4c778e894bcf82c4",
   "outputs": [
    {
     "name": "stdout",
     "output_type": "stream",
     "text": [
      "0     15.0\n",
      "1     17.0\n",
      "2     19.0\n",
      "3     21.0\n",
      "4     23.0\n",
      "5      NaN\n",
      "6      NaN\n",
      "7      NaN\n",
      "8      NaN\n",
      "9      NaN\n",
      "10     NaN\n",
      "11     NaN\n",
      "12     NaN\n",
      "13     NaN\n",
      "14     NaN\n",
      "dtype: float64\n"
     ]
    }
   ],
   "execution_count": 30
  },
  {
   "metadata": {
    "ExecuteTime": {
     "end_time": "2025-04-26T15:22:18.840647Z",
     "start_time": "2025-04-26T15:22:18.834542Z"
    }
   },
   "cell_type": "code",
   "source": "s2.add(s1, fill_value=0)",
   "id": "16bdfb8763448e28",
   "outputs": [
    {
     "data": {
      "text/plain": [
       "0     15.0\n",
       "1     17.0\n",
       "2     19.0\n",
       "3     21.0\n",
       "4     23.0\n",
       "5     15.0\n",
       "6     16.0\n",
       "7     17.0\n",
       "8     18.0\n",
       "9     19.0\n",
       "10    20.0\n",
       "11    21.0\n",
       "12    22.0\n",
       "13    23.0\n",
       "14    24.0\n",
       "dtype: float64"
      ]
     },
     "execution_count": 35,
     "metadata": {},
     "output_type": "execute_result"
    }
   ],
   "execution_count": 35
  },
  {
   "metadata": {
    "ExecuteTime": {
     "end_time": "2025-04-26T15:23:20.238715Z",
     "start_time": "2025-04-26T15:23:20.220714Z"
    }
   },
   "cell_type": "code",
   "source": [
    "df1 = pd.DataFrame(np.ones((2,2)), columns = ['a', 'b'])\n",
    "df2 = pd.DataFrame(np.ones((3,3)), columns = ['a', 'b', 'c'])\n",
    "print(df1)\n",
    "print(df2)\n",
    "print('-'*50)\n",
    "print(df2.dtypes)\n",
    "print(df1-df2)\n",
    "print(df2.sub(df1, fill_value = 2)) #未对齐的数据将和填充值做运算"
   ],
   "id": "eff8145f4d2ed37f",
   "outputs": [
    {
     "name": "stdout",
     "output_type": "stream",
     "text": [
      "     a    b\n",
      "0  1.0  1.0\n",
      "1  1.0  1.0\n",
      "     a    b    c\n",
      "0  1.0  1.0  1.0\n",
      "1  1.0  1.0  1.0\n",
      "2  1.0  1.0  1.0\n",
      "--------------------------------------------------\n",
      "a    float64\n",
      "b    float64\n",
      "c    float64\n",
      "dtype: object\n",
      "     a    b   c\n",
      "0  0.0  0.0 NaN\n",
      "1  0.0  0.0 NaN\n",
      "2  NaN  NaN NaN\n",
      "     a    b    c\n",
      "0  0.0  0.0 -1.0\n",
      "1  0.0  0.0 -1.0\n",
      "2 -1.0 -1.0 -1.0\n"
     ]
    }
   ],
   "execution_count": 36
  }
 ],
 "metadata": {
  "kernelspec": {
   "display_name": "Python 3",
   "language": "python",
   "name": "python3"
  },
  "language_info": {
   "codemirror_mode": {
    "name": "ipython",
    "version": 2
   },
   "file_extension": ".py",
   "mimetype": "text/x-python",
   "name": "python",
   "nbconvert_exporter": "python",
   "pygments_lexer": "ipython2",
   "version": "2.7.6"
  }
 },
 "nbformat": 4,
 "nbformat_minor": 5
}
